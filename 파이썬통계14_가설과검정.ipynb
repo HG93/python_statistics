{
  "nbformat": 4,
  "nbformat_minor": 0,
  "metadata": {
    "colab": {
      "name": "파이썬통계14-가설과검정.ipynb",
      "provenance": [],
      "collapsed_sections": []
    },
    "kernelspec": {
      "name": "python3",
      "display_name": "Python 3"
    }
  },
  "cells": [
    {
      "cell_type": "markdown",
      "metadata": {
        "id": "mkSZqK4VbpJs",
        "colab_type": "text"
      },
      "source": [
        "# 추정\n",
        "* 보통 어떤 집단(모집단)의 특징을 알고싶다 => 전수조사\n",
        "\n",
        "* 현실에서는 시간/비용상의 문제 때문에 모든 구성원 대상 조사는 어려움 \n",
        "  + => 표본 이용(일부조사)\n",
        "\n",
        "* 알고자 하는 모집단의 특징을 숫자로 표현\n",
        "  + => 모수(평균,분산,비율, 표준편차)\n",
        "\n",
        "* 표본으로 뽑은 데이터 - 통계량, 추정치\n",
        "* 표본의 통계량을 \"'모수'가 이럴것이다\"라고 추리 => 추정\n",
        "\n",
        "\n",
        "* ex) 한국 성인 남자의 평균 키 파악\n",
        "  + 모집단 : 한국 성인 남자\n",
        "  + 모수 : 평균\n",
        "  + => 한국 성인남자 모두를 조사할 수 없으니 표본(남자 1000명)을 선정해서 평균을 구함\n",
        "  + => 표본의 평균으로 모집단의 평균을 추리함  \n",
        "\n",
        "* 추정은 일부 데이터로 전체를 추리하기 때문에 100% 정답은 아니고, 일부 오차는 존재함\n",
        "* 추정에는 점추정, 구간 추정이 있음"
      ]
    },
    {
      "cell_type": "markdown",
      "metadata": {
        "id": "nlelClLsczYq",
        "colab_type": "text"
      },
      "source": [
        "# 점추정\n",
        "* 추정치를 하나의 값(점)으로 표현\n",
        "* 성인 남자 평균 키 - 172.38cm(통계량)\n",
        "* 그런데, 진짜 한국 남성의 평균키가 172cm일까?\n",
        "  + 당연히 그럴 확률은 희박 => 표본수 작음, 오차 존재\n",
        "  + 따라서, 특성상 점추정은 신뢰하기 어려움\n",
        "\n",
        "* ex) 서울 지역내 하이마트에서 UHD TV를 구매한 고객의 평균 나이 추정\n",
        "* 경주를 방문한 관광객들의 평균 지출액 추정\n"
      ]
    },
    {
      "cell_type": "markdown",
      "metadata": {
        "id": "TlCITaNKdRwK",
        "colab_type": "text"
      },
      "source": [
        "# 구간 추정  \n",
        "* 추정치를 일정구간으로 설정\n",
        "* 즉, 신뢰도(신뢰수준)를 제시하면서 상한값과 하한값으로 추정\n",
        "\n",
        "* 성인 남자 평균 키 - 172.38cm(통계량) => 167 ~ 177cm (+-5)\n",
        "* 이렇게 하면, 이 구간에 모수가 포함될 확률이 높아짐\n",
        "* 추정치의 신뢰도를 높이고, 점추정치의 한계를 \n",
        "극복하기 위해 구간 추정을 사용함\n",
        "\n",
        "* ex) 서울 지역 IT노동자의 연간 평균 급여가 200만원이다 \n",
        "   + (점추정 - 신뢰도 하락)\n",
        "\n",
        "* 서울 지역 IT노동자의 연간 평균 급여가 180 ~ 220만원 사이에 있을 가능성이 85%이다 \n",
        "  + (구간추정 -어느 정도 신뢰도 보장)"
      ]
    },
    {
      "cell_type": "markdown",
      "metadata": {
        "id": "YQqqRLlEd84W",
        "colab_type": "text"
      },
      "source": [
        "# 신뢰구간\n",
        "* 점추정은 특성상 신뢰도가 떨어짐 => 구간추정으로 보완\n",
        "* 그러면, 구간추정시 어느정도까지 구간을\n",
        "설정해야 할까?\n",
        "\n",
        "* 성인 남자 평균 키에 대한 구간추정을\n",
        "150~190으로 잡으면? => 너무 넓음\n",
        "  + 구간설정이 짧을수록 좋을까? 너무 짧아도 문제\n",
        "\n",
        "* 너무 넓지도, 짧지않게 나름의 기준에 따라\n",
        "신뢰가능한 구간을 설정 - 신뢰구간 사용\n",
        "\n",
        "* 주어진 확률로 모집단의 모수가 존재할 것으로\n",
        "예상되는 값의 범위 - 신뢰구간\n",
        "  + 이때, 주어진 확률은 '신뢰수준'이라 함\n",
        "\n",
        "* 신뢰수준 - 표본으로부터 계산한 결과에 대해 \n",
        "확실성 정도를 표현하는 것으로, 추정값으로 모수를 맞출 확률을 의미\n",
        " + 90% ~ 99.9% 정도로 표현"
      ]
    },
    {
      "cell_type": "markdown",
      "metadata": {
        "id": "-my8t3Ybe9ac",
        "colab_type": "text"
      },
      "source": [
        "# 추론통계의 두 갈래\n",
        "* 모집단으로부터 표본을 추출해서 모집단의 특성을 나타내는 모수에 대한 여러 가지 정보를 얻음 : 추론통계\n",
        "* 통계적 추론 = 추정 + 가설검정"
      ]
    },
    {
      "cell_type": "markdown",
      "metadata": {
        "id": "QUlomf-OfNuA",
        "colab_type": "text"
      },
      "source": [
        "# 가설검정\n",
        "* 추론 통계학에서 중요하게 여기는 3가지\n",
        "* 1. 표본집단은 모집단을 대표할 수 있나?\n",
        "  + 표본의 특성이 모집단을 잘 반영해야 함 -> 대표성을 지녀야 함\n",
        "  \n",
        "* 2. 표본의 확률분포는 어떤가?\n",
        "  + 어떤 분포이냐에 따라 추정을 위한 기법이 다름\n",
        "  + 단, 표본의 수가 많아지면 정규분포에 근사\n",
        "    \n",
        "* 3. 추정된 결과는 신뢰할 만 한가?\n",
        "  + 추정된 결과를 활용할 지 결정하는 요소"
      ]
    },
    {
      "cell_type": "markdown",
      "metadata": {
        "id": "qyFTrMfTg67d",
        "colab_type": "text"
      },
      "source": [
        "# 통계적 가설검정\n",
        "* 세상에는 수 많은 분야에 걸쳐 다양한 이론/관념이 존재\n",
        "* 이러한 이론/관념들은 그 자체로 정답이라기 \n",
        "보다는 '이럴것이다'라는 하나의 가설에 불과\n",
        "* 정답은 아니고 가설이므로 항상 불완전함이 내포\n",
        "\n",
        "* 한편, 불완전함을 채우기 위해 새로운 가설이 등장하기도 함\n",
        "* ex) 우주에 대한 가설\n",
        "  + 신화적 상상 -> 천동설 -> 지동설\n",
        "\n",
        "* 그런데, 새로운 가설이 이전가설보다 늘 합리적이고 신뢰적일까? \n",
        "* 오히려 이전 가설이 더 합리적일수도 있음\n",
        "\n",
        "* 따라서, 두 가설중 어떤 가설이 더 신뢰성있고 정확한지 판단해야 할 필요가 있음\n",
        "  + => 이 과정을 가설검정이라 함"
      ]
    },
    {
      "cell_type": "markdown",
      "metadata": {
        "id": "9DQZE07vhiHw",
        "colab_type": "text"
      },
      "source": [
        "# 통계적 관점의 가설\n",
        "* 검정을 전제로 모집단의 모수에 대한 진술 또는 가정\n",
        "\n",
        "* ex) 하이마트에서 일하는 모든 종업원의 평균임금은 200만원이다 - 가설\n",
        "\n",
        "* 이 가설이 옳은지 알아보기 위해서는 모든 영업점을 다 돌아봐야 함 - 사실상 불가능\n",
        "  + => 일정 수의 표본을 추출해서 표본 통계량을 조사하고 결정규칙에 따라 가설을 채택하거나 기각할 수 있음\n",
        "\n",
        "* 표본 통계량 조사 후 :\n",
        "  + 1) 표본평균 100만원 -> 가설기각\n",
        "  + 2) 표본평균 196만원 -> 가설채택? 오차 허용여부는?\n",
        "\n",
        "\n",
        "### 통계적 관점의 검정\n",
        "* 가설이 타당성 있는 진술인지 결정하기 위해\n",
        "표본증거와 확률이론에 기반하여 수행하는 과정\n",
        "\n",
        "* 이러한 검정은 수학적 증명을 동반하지 않고\n",
        "받아들일 만한 확률적 증거만을 제공\n",
        "* 따라서, 해석능력, 경험이 어느정도 동반되어야 함\n"
      ]
    },
    {
      "cell_type": "markdown",
      "metadata": {
        "id": "wB8wXIOqiOZK",
        "colab_type": "text"
      },
      "source": [
        "# 가설검정의 6가지 절차\n",
        "* 귀무/대립가설 설정 -> 유의수준 선정 -> 검정 통계량 선택 -> 결정규칙 수립 -> 표본추출, 결론도출 -> 결과 해석\n",
        "\n",
        "### 1. 귀무/대립가설 설정\n",
        "검정하고자 하는 가설을 설정\n",
        "\n",
        "* 귀무(null)가설 $H_0$\n",
        "  + 수치증거를 검정하기 위한 목표로 만들어진 모집단 모수값에 대한 진술(가정)\n",
        "\n",
        "* 대립(alternative)가설$H_1$\n",
        "  + 표본 데이터 정보로 귀무가설이 거짓이라는 충분한 증거를 제시할 때 채택되는 진술\n",
        "\n",
        "* ex) 상업적 항공기의 평균수명은 25년인지 알고 싶다\n",
        "  + 귀무가설 : 평균수명은 25년이다 (=)\n",
        "  + 대립가설 : 평균수명은 \n",
        "    25년이 아니다/25년이상/25년이하(>,<,!=)\n",
        "\n",
        "\n",
        "### 2. 유의수준 선정\n",
        "* 귀무가설을 기각하게 되는 확률\n",
        "  + 일반적으로 소비자 관련 - 0.05\n",
        "  + 품질보증 관련 - 0.01\n",
        "  + 정치 여론 조사관련 - 0.10\n",
        "\n",
        "* ex) 전자회로기판PCB 생산업체에서\n",
        "불량률이 6% 이하일때 계약업체로 선적해서\n",
        "납품한다는 품질보증계약 체결함\n",
        "\n",
        "  + 귀무가설H0: 불량률 6% 이하 - 선적 o\n",
        "  + 대립가설H1: 불량률 6% 초과 - 선적 x\n",
        "\n",
        "  + 4000개의 회로판에서 표본 50개 추출 \n",
        "    + -> 4개가 불량 -> 0.08 -> 8% -> 선적x\n",
        "    + 그런데, 4개의 불량이 전체 4000개에서 유일하다면? \n",
        "    + => 불량률 0.1% -> 선적취소는 잘못된 결정\n",
        "    + => 귀무가설이 옳지만 기각했음 (제1종오류(알파$\\alpha$))\n",
        "\n",
        "  + 4000개의 회로판에서 표본 50개 추출\n",
        "    + -> 2개가 불량 -> 0.04 -> 4% -> 선적o\n",
        "    + 그런데, 48개 정상품이 전체 4000개에서 유일\n",
        "    + -> 불량률 98.8% -> 선적허용은 잘못된 결정\n",
        "    + => 귀무가설이 틀리지만 기각못함 (제2종오류(베타$\\beta$))\n",
        "\n",
        "\n",
        "### 3. 검정 통계량 선택\n",
        "* 귀무가설을 기각할 것인지를 결정하기 위해서 표본으로부터 계산된 값\n",
        "\n",
        "* 일반적으로 z검정값, t검정값등을 사용\n",
        "* 상황에 따라 F/카이제곱 검정값도 사용\n",
        "\n",
        "### 4. 결정규칙 수립 - 단측/양측 검정\n",
        "* 귀무가설이 기각될 특정 조건과 기각되지 않을 조건을 명시\n",
        "* 일반적으로 기각영역은 귀무가설이 발생할 가능성이 없도록 작게 설정\n",
        "\n",
        "* 단측검정 : one-side, 한쪽 꼬리 검정\n",
        "  + 방향성(크다/작다)이 대립가설에 포함되는 경우 시행하는 검정\n",
        "\n",
        "* 우측(오른쪽) 단측검정\n",
        "  + ex) 농심의 '오징어다리' 스낵의 포장중량이 500g미만인지 검정한다고 가정\n",
        "\n",
        "  + 귀무가설 : 포장중량이 500g미만\n",
        "  + 대립가설 : 포장중량이 500g이상\n",
        "  + 유의수준 0.05일때 귀무가설이 기각될 영역(기각역)은 \n",
        "임계값 1.645 기준 오른쪽 영역\n",
        "  + 임계값 : 귀무가설을 채택하거나 기각할 영역 사이의 분기점\n",
        "\n",
        "* 좌측(왼쪽) 단측검정\n",
        "  + ex) 현대 자동차에 장착되는 타이어의 평균 수명이 50000km 이상인지 검정\n",
        "\n",
        "  + 귀무가설 : 평균 수명이 50000km 이상\n",
        "  + 대립가설 : 평균 수명이 50000km 미만\n",
        "\n",
        "  + 유의수준 0.05일때 귀무가설이 기각될 영역(기각역)은 \n",
        "임계값 -1.645 기준 왼쪽 영역\n",
        "\n",
        "* 양측검정 - two sided, 양쪽 꼬리 검정\n",
        "  + 방향성(크다/작다)이 대립가설에 포함되지 않는 경우 시행하는 검정\n",
        "\n",
        "  + ex) 회계사의 연평균 수입은 5500만원인가?\n",
        "  + 귀무가설 : 연평균 수입은 5500만원 이다\n",
        "  + 대립가설 : 연평균 수입은 5500만원 아니다\n",
        "\n",
        "  + 유의수준 0.05일때 귀무가설이 기각된 영역은 임계값 -1.96(0.025)/1.96(0.025) 기준 양쪽 영역임\n",
        "\n",
        "### 5. 결론도출 \n",
        "* 만약, 계산된 검정 통계량 z값이 기각역을 넘는 값이라면 (ex: 2.34) 귀무가설은 기각됨\n",
        "\n",
        "* 계산된 검정 통계량 z값이 기각역을 넘지 않는 값이라면 (ex: 0.71)\n",
        "귀무가설은 채택됨\n",
        "\n",
        "* 하지만, 1종오류/2종오류가 발생할 수도 있음\n",
        "\n",
        "* 유의확률 p-value\n",
        "  + 귀무가설이 참이라고 가정할때 주어진 데이터가 관측될 확률\n",
        "  + 또는 극단적인 데이터가 관측될 확률을 의미\n",
        "  + 따라서, '유의확률이 유의수준보다 작으면 귀무가설을 기각할 수 있음' (중요!)\n",
        "\n",
        "![](https://github.com/siestageek/bigdataset/blob/master/t-table-1.png?raw=true)\n",
        "\n",
        "\n",
        "\n",
        "### 6. 결과 해석\n",
        "* 통계를 이용해서 가설검정이 모든 분야의 가설을 다 판단하지 못함\n",
        "* 수학적 특성상 제약이 존재(표본의 편중)\n",
        "* 판단의 의사결정시 수학적 방법을 이용하는 것도 좋지만, 수학의 틀에서 벗어나 의사결정하는 것도 좋음\n",
        "  + => 동물적 직감, 영감을 이용\n",
        "\n",
        "* 즉, 참/거짓이 존재하는 수학적 가설과는 달리 통계적 가설은 참/거짓의 유무보다는 확률만 존재함 \n",
        "  + 언제나 틀릴 가능성 내포\n",
        "\n",
        "* ex) 회계사의 연평균 수입은 5500만원인가?\n",
        "  + 귀무가설 : 연평균 수입은 5500만원 이다\n",
        "  + 대립가설 : 연평균 수입은 5500만원 아니다\n",
        "\n",
        "  + 결론 : 연평균 수입은 5500만원 이다 (x)\n",
        "    + 연평균 수입이 5500만원일/아닐 \n",
        "       확률이 다소 높다/낮다 (o)\n"
      ]
    },
    {
      "cell_type": "code",
      "metadata": {
        "id": "JChRgbpVuwRZ",
        "colab_type": "code",
        "colab": {
          "base_uri": "https://localhost:8080/",
          "height": 74
        },
        "outputId": "31763cc8-cd0b-40f9-d826-bf45c6bfbc8e"
      },
      "source": [
        "import numpy as np\n",
        "import pandas as pd\n",
        "from scipy import stats\n",
        "import matplotlib.pyplot as plt\n",
        "import seaborn as sns"
      ],
      "execution_count": null,
      "outputs": [
        {
          "output_type": "stream",
          "text": [
            "/usr/local/lib/python3.6/dist-packages/statsmodels/tools/_testing.py:19: FutureWarning: pandas.util.testing is deprecated. Use the functions in the public API at pandas.testing instead.\n",
            "  import pandas.util.testing as tm\n"
          ],
          "name": "stderr"
        }
      ]
    },
    {
      "cell_type": "code",
      "metadata": {
        "id": "IIAqrfuqux52",
        "colab_type": "code",
        "colab": {
          "base_uri": "https://localhost:8080/",
          "height": 407
        },
        "outputId": "026f6f8d-74c1-4cec-a7a5-ff618a331124"
      },
      "source": [
        "# 가설검정 예\n",
        "# 성인의 평균키는 67.6인치(172cm)인지 알아보자\n",
        "# 귀무가설 : 성인의 평균키는 67.6인치 이다!\n",
        "# 대립가설 : 성인의 평균키는 67.6인치 아니다!\n",
        "# 검정방법 : 양측검정\n",
        "data = pd.read_csv('https://raw.githubusercontent.com/siestageek/bigdataset/master/coffee.csv')\n",
        "data"
      ],
      "execution_count": null,
      "outputs": [
        {
          "output_type": "execute_result",
          "data": {
            "text/html": [
              "<div>\n",
              "<style scoped>\n",
              "    .dataframe tbody tr th:only-of-type {\n",
              "        vertical-align: middle;\n",
              "    }\n",
              "\n",
              "    .dataframe tbody tr th {\n",
              "        vertical-align: top;\n",
              "    }\n",
              "\n",
              "    .dataframe thead th {\n",
              "        text-align: right;\n",
              "    }\n",
              "</style>\n",
              "<table border=\"1\" class=\"dataframe\">\n",
              "  <thead>\n",
              "    <tr style=\"text-align: right;\">\n",
              "      <th></th>\n",
              "      <th>user_id</th>\n",
              "      <th>age</th>\n",
              "      <th>drinks_coffee</th>\n",
              "      <th>height</th>\n",
              "    </tr>\n",
              "  </thead>\n",
              "  <tbody>\n",
              "    <tr>\n",
              "      <th>0</th>\n",
              "      <td>4509</td>\n",
              "      <td>&lt;21</td>\n",
              "      <td>False</td>\n",
              "      <td>64.538179</td>\n",
              "    </tr>\n",
              "    <tr>\n",
              "      <th>1</th>\n",
              "      <td>1864</td>\n",
              "      <td>&gt;=21</td>\n",
              "      <td>True</td>\n",
              "      <td>65.824249</td>\n",
              "    </tr>\n",
              "    <tr>\n",
              "      <th>2</th>\n",
              "      <td>2060</td>\n",
              "      <td>&lt;21</td>\n",
              "      <td>False</td>\n",
              "      <td>71.319854</td>\n",
              "    </tr>\n",
              "    <tr>\n",
              "      <th>3</th>\n",
              "      <td>7875</td>\n",
              "      <td>&gt;=21</td>\n",
              "      <td>True</td>\n",
              "      <td>68.569404</td>\n",
              "    </tr>\n",
              "    <tr>\n",
              "      <th>4</th>\n",
              "      <td>6254</td>\n",
              "      <td>&lt;21</td>\n",
              "      <td>True</td>\n",
              "      <td>64.020226</td>\n",
              "    </tr>\n",
              "    <tr>\n",
              "      <th>...</th>\n",
              "      <td>...</td>\n",
              "      <td>...</td>\n",
              "      <td>...</td>\n",
              "      <td>...</td>\n",
              "    </tr>\n",
              "    <tr>\n",
              "      <th>2969</th>\n",
              "      <td>5984</td>\n",
              "      <td>&gt;=21</td>\n",
              "      <td>True</td>\n",
              "      <td>68.544084</td>\n",
              "    </tr>\n",
              "    <tr>\n",
              "      <th>2970</th>\n",
              "      <td>5302</td>\n",
              "      <td>&lt;21</td>\n",
              "      <td>True</td>\n",
              "      <td>63.822921</td>\n",
              "    </tr>\n",
              "    <tr>\n",
              "      <th>2971</th>\n",
              "      <td>5978</td>\n",
              "      <td>&gt;=21</td>\n",
              "      <td>True</td>\n",
              "      <td>67.298275</td>\n",
              "    </tr>\n",
              "    <tr>\n",
              "      <th>2972</th>\n",
              "      <td>3900</td>\n",
              "      <td>&lt;21</td>\n",
              "      <td>False</td>\n",
              "      <td>60.095933</td>\n",
              "    </tr>\n",
              "    <tr>\n",
              "      <th>2973</th>\n",
              "      <td>5705</td>\n",
              "      <td>&lt;21</td>\n",
              "      <td>False</td>\n",
              "      <td>63.765869</td>\n",
              "    </tr>\n",
              "  </tbody>\n",
              "</table>\n",
              "<p>2974 rows × 4 columns</p>\n",
              "</div>"
            ],
            "text/plain": [
              "      user_id   age  drinks_coffee     height\n",
              "0        4509   <21          False  64.538179\n",
              "1        1864  >=21           True  65.824249\n",
              "2        2060   <21          False  71.319854\n",
              "3        7875  >=21           True  68.569404\n",
              "4        6254   <21           True  64.020226\n",
              "...       ...   ...            ...        ...\n",
              "2969     5984  >=21           True  68.544084\n",
              "2970     5302   <21           True  63.822921\n",
              "2971     5978  >=21           True  67.298275\n",
              "2972     3900   <21          False  60.095933\n",
              "2973     5705   <21          False  63.765869\n",
              "\n",
              "[2974 rows x 4 columns]"
            ]
          },
          "metadata": {
            "tags": []
          },
          "execution_count": 5
        }
      ]
    },
    {
      "cell_type": "code",
      "metadata": {
        "id": "0XCa1X3gC6wC",
        "colab_type": "code",
        "colab": {
          "base_uri": "https://localhost:8080/",
          "height": 35
        },
        "outputId": "a600260d-c5d1-4dc8-b871-a630d382e8b0"
      },
      "source": [
        "# 단일표본 t검정 : ttest_1samp(표본, 평균)\n",
        "result = stats.ttest_1samp(data['height'], 67.6)\n",
        "\n",
        "# 대립가설 채택여부 확인/귀무가설 기각여부 확인 \n",
        "# p-value가 0.05보다 작은 경우 귀무가설 기각함\n",
        "result"
      ],
      "execution_count": null,
      "outputs": [
        {
          "output_type": "execute_result",
          "data": {
            "text/plain": [
              "Ttest_1sampResult(statistic=-0.04393310841362738, pvalue=0.9649606744467513)"
            ]
          },
          "metadata": {
            "tags": []
          },
          "execution_count": 9
        }
      ]
    },
    {
      "cell_type": "code",
      "metadata": {
        "id": "tmVsoSECD7zP",
        "colab_type": "code",
        "colab": {
          "base_uri": "https://localhost:8080/",
          "height": 90
        },
        "outputId": "89e69d24-d9de-4081-9dd2-ffd409bcd4a9"
      },
      "source": [
        "# 학생들의 키가 평균 175cm인가에 대한 가설검정\n",
        "np.random.seed(2007221450)\n",
        "heights = np.random.randint(low=162, high=182, size=50)\n",
        "print(heights, np.mean(heights))\n",
        "\n",
        "result = stats.ttest_1samp(heights, 175)\n",
        "print(result)"
      ],
      "execution_count": null,
      "outputs": [
        {
          "output_type": "stream",
          "text": [
            "[174 168 173 163 173 170 175 163 173 178 172 163 166 171 172 165 165 164\n",
            " 172 163 163 179 168 169 177 176 181 168 180 170 180 176 168 173 179 178\n",
            " 173 173 179 163 174 171 172 172 162 171 168 170 181 168] 171.3\n",
            "Ttest_1sampResult(statistic=-4.779118408380455, pvalue=1.642785429705055e-05)\n"
          ],
          "name": "stdout"
        }
      ]
    },
    {
      "cell_type": "markdown",
      "metadata": {
        "id": "dp-SrkoUF43b",
        "colab_type": "text"
      },
      "source": [
        "# 두 표본 가설검정\n",
        "* 단일표본의 비교문제는 하나의 모집단에서 추출된 하나의 표본에 대해 검정\n",
        "\n",
        "* 그에 비해 두 표본 비교문제는 독립적(서로 관련없음)인 두 모집단으로 부터 각각 추출된 표본의 경우와\n",
        "* 동일한 모집단으로부터 추출된 두 표본의 경우로 나누어 검정을 실시함\n",
        "  + => 2개의 집단간의 차이가 의미 있는지 확인\n",
        "\n",
        "* 일상에서는 단일 표본문제보다 더 많이 사용됨\n",
        "  + ex) 남자와 여자간의 소득 차이 비교 (독립표본)\n",
        "  + 과외를 받기 전과 후의 성적 차이 비교 (짝 표본)\n",
        "\n",
        "### 정규성 검정\n",
        "* 데이터의 분포가 정규분포를 따르는지 알아보는 것을 의미\n",
        "* 통계의 다양한 검정법은 데이터의 정규분포를 가정하고 수행됨\n",
        "* 데이터가 충분히 크다면(보통 30개 이상) 중심극한정리를 적용할 수 있음\n",
        "* 하지만, 그 이하일 경우 별도의 정규성 검정이 필요할 수 있음\n",
        "* 독립표본을 이용해서 가설검정을 실시하기 위해서는   \n",
        "  반드시 정규성, 등분산성이 만족되어야 함"
      ]
    },
    {
      "cell_type": "code",
      "metadata": {
        "id": "qCNYVsedGEDR",
        "colab_type": "code",
        "colab": {
          "base_uri": "https://localhost:8080/",
          "height": 35
        },
        "outputId": "bedc0e39-bfd7-41d7-9082-c0559b54d3af"
      },
      "source": [
        "# 단일표본 정규성 검정\n",
        "# 표본의 수가 2000미만인 경우 shapiro-Wilks 검정 실시\n",
        "# pvalue가 0.05보다 크면 표본이 정규성을 띈다고 볼 수 있음\n",
        "samp = data['height'][:20]\n",
        "\n",
        "stats.shapiro(samp)"
      ],
      "execution_count": null,
      "outputs": [
        {
          "output_type": "execute_result",
          "data": {
            "text/plain": [
              "(0.9590533375740051, 0.5251146554946899)"
            ]
          },
          "metadata": {
            "tags": []
          },
          "execution_count": 15
        }
      ]
    },
    {
      "cell_type": "code",
      "metadata": {
        "id": "34FQW9sGJRam",
        "colab_type": "code",
        "colab": {
          "base_uri": "https://localhost:8080/",
          "height": 265
        },
        "outputId": "89b3313d-5ba7-4df1-a9ae-700d3eabf36a"
      },
      "source": [
        "# 정규성 검정에 대한 시각화\n",
        "plt.boxplot(samp, vert=0)\n",
        "plt.grid()"
      ],
      "execution_count": null,
      "outputs": [
        {
          "output_type": "display_data",
          "data": {
            "image/png": "[encoded data removed]",
            "text/plain": [
              "<Figure size 432x288 with 1 Axes>"
            ]
          },
          "metadata": {
            "tags": [],
            "needs_background": "light"
          }
        }
      ]
    },
    {
      "cell_type": "code",
      "metadata": {
        "id": "XeiGdBB_K-a7",
        "colab_type": "code",
        "colab": {
          "base_uri": "https://localhost:8080/",
          "height": 54
        },
        "outputId": "6bbf24b7-97f0-467c-f07f-e7799e3b48cb"
      },
      "source": [
        "# ex) 독립표본 x, y 에 대해 정규성을 확인하시오\n",
        "x = [175,168,168,190,156,181,182,175,174,179]\n",
        "y = [185,169,173,173,188,186,175,174,179,180]\n",
        "\n",
        "result1 = stats.shapiro(x)\n",
        "result2 = stats.shapiro(y)\n",
        "print(result1)\n",
        "print(result2)"
      ],
      "execution_count": null,
      "outputs": [
        {
          "output_type": "stream",
          "text": [
            "(0.9635064005851746, 0.8249932527542114)\n",
            "(0.9306508898735046, 0.454325407743454)\n"
          ],
          "name": "stdout"
        }
      ]
    },
    {
      "cell_type": "code",
      "metadata": {
        "id": "UvxzhHLMLfEn",
        "colab_type": "code",
        "colab": {
          "base_uri": "https://localhost:8080/",
          "height": 35
        },
        "outputId": "d2921401-1a0e-4495-e34d-8c5cfa6c785c"
      },
      "source": [
        "# 두 표본 등분산성 검정\n",
        "# 두 표본의 분산(표준편차)이 비슷한지 여부를 알아봄\n",
        "# levene 함수를 이용하거나 bartett 함수를 이용함\n",
        "# pvalue가 0.05보다 크면 표본이 등분산성을 띈다고 볼 수 있음\n",
        "result1 = stats.levene(x, y)\n",
        "result2 = stats.bartlett(x, y)\n",
        "print(result1, result2)"
      ],
      "execution_count": null,
      "outputs": [
        {
          "output_type": "stream",
          "text": [
            "LeveneResult(statistic=0.2900626678603398, pvalue=0.5967786336494338) BartlettResult(statistic=1.1514189007733604, pvalue=0.2832523209020049)\n"
          ],
          "name": "stdout"
        }
      ]
    },
    {
      "cell_type": "code",
      "metadata": {
        "id": "eO0sSP0NQdSq",
        "colab_type": "code",
        "colab": {
          "base_uri": "https://localhost:8080/",
          "height": 35
        },
        "outputId": "f637b1c8-a3ab-4d93-e62e-81783666b8ee"
      },
      "source": [
        "# 독립표본에 대한 x,y에 대해 평균의 차이가 존재하는지 t검정\n",
        "# 독립표본 t검정 : ttest_ind(표본1, 표본2, 등분산성여부)\n",
        "# 만일, 등분산성 검정을 실패하는 경우 equal_var=False로 설정\n",
        "# p-value가 0.05보다 작은 경우 귀무가설 기각함\n",
        "# 귀무가설 : x,y에 대해 평균의 차이가 존재 않음\n",
        "# 대립가설 : x,y에 대해 평균의 차이가 존재함\n",
        "\n",
        "result = stats.ttest_ind(x, y)\n",
        "print(result)  # p:0.355 => 귀무가설 채택 => 평균차이없음"
      ],
      "execution_count": null,
      "outputs": [
        {
          "output_type": "stream",
          "text": [
            "Ttest_indResult(statistic=-0.9473729613780933, pvalue=0.3559948666339564)\n"
          ],
          "name": "stdout"
        }
      ]
    },
    {
      "cell_type": "code",
      "metadata": {
        "id": "OzYlHfklUD2R",
        "colab_type": "code",
        "colab": {
          "base_uri": "https://localhost:8080/",
          "height": 490
        },
        "outputId": "a50e362a-394c-49ed-dfcf-cc6534b76d0d"
      },
      "source": [
        "# ex) 자동차 연비 데이터에서 기어 종류에 따라 \n",
        "# 평균 연비의 차이에 의미가 있는지 검정\n",
        "# 귀무가설 : 기어의 종류에 따라 평균연비의 차이가 존재 않음\n",
        "# 대립가설 : 기어의 종류에 따라 평균연비의 차이가 존재함\n",
        "mtcars = pd.read_csv('https://raw.githubusercontent.com/siestageek/bigdataset/master/mtcars.csv')\n",
        "auto = mtcars[mtcars['am'] == 0]['mpg']\n",
        "manual = mtcars[mtcars['am'] == 1]['mpg']\n",
        "print(auto[:12])\n",
        "print(manual[:12])"
      ],
      "execution_count": null,
      "outputs": [
        {
          "output_type": "stream",
          "text": [
            "3     21.4\n",
            "4     18.7\n",
            "5     18.1\n",
            "6     14.3\n",
            "7     24.4\n",
            "8     22.8\n",
            "9     19.2\n",
            "10    17.8\n",
            "11    16.4\n",
            "12    17.3\n",
            "13    15.2\n",
            "14    10.4\n",
            "Name: mpg, dtype: float64\n",
            "0     21.0\n",
            "1     21.0\n",
            "2     22.8\n",
            "17    32.4\n",
            "18    30.4\n",
            "19    33.9\n",
            "25    27.3\n",
            "26    26.0\n",
            "27    30.4\n",
            "28    15.8\n",
            "29    19.7\n",
            "30    15.0\n",
            "Name: mpg, dtype: float64\n"
          ],
          "name": "stdout"
        }
      ]
    },
    {
      "cell_type": "code",
      "metadata": {
        "id": "ryTx3D3jVTBq",
        "colab_type": "code",
        "colab": {
          "base_uri": "https://localhost:8080/",
          "height": 72
        },
        "outputId": "c01bb8b7-45d8-4218-e3f3-f16d379c173a"
      },
      "source": [
        "# 추출한 데이터중 12개만 가져와서 정규성,등분산성 검정\n",
        "x = auto[:12]\n",
        "y = manual[:12]\n",
        "result1 = stats.shapiro(x)\n",
        "result2 = stats.shapiro(y)\n",
        "result3 = stats.bartlett(x, y)\n",
        "print(result1)\n",
        "print(result2)\n",
        "print(result3)"
      ],
      "execution_count": null,
      "outputs": [
        {
          "output_type": "stream",
          "text": [
            "(0.9817473292350769, 0.9896629452705383)\n",
            "(0.9455317854881287, 0.5728504061698914)\n",
            "BartlettResult(statistic=2.6617051044726785, pvalue=0.10279049078481733)\n"
          ],
          "name": "stdout"
        }
      ]
    },
    {
      "cell_type": "code",
      "metadata": {
        "id": "42RdtStnWgAP",
        "colab_type": "code",
        "colab": {
          "base_uri": "https://localhost:8080/",
          "height": 35
        },
        "outputId": "e7ce1113-acc6-431a-99d9-42745ce74f2e"
      },
      "source": [
        "# 독립표본 t검정 시행\n",
        "result4 = stats.ttest_ind(x, y)\n",
        "print(result4)\n",
        "# p-value값이 0.05보다 작기때문에 귀무가설 기각\n",
        "# => 기어유형에 따라 평균연비의 차이가 존재할 확률이 높음"
      ],
      "execution_count": null,
      "outputs": [
        {
          "output_type": "stream",
          "text": [
            "Ttest_indResult(statistic=-3.0985072529588464, pvalue=0.005243381009039916)\n"
          ],
          "name": "stdout"
        }
      ]
    },
    {
      "cell_type": "code",
      "metadata": {
        "id": "qH8HPWYcIivL",
        "colab_type": "code",
        "colab": {
          "base_uri": "https://localhost:8080/",
          "height": 72
        },
        "outputId": "dab100a5-7a7a-4f5f-a16c-190d4e61d6f3"
      },
      "source": [
        "# 연비 데이터 갯수 수정없이 바로 독립표본 검정 실시\n",
        "mtcars = pd.read_csv('https://raw.githubusercontent.com/siestageek/bigdataset/master/mtcars.csv')\n",
        "auto = mtcars[mtcars['am'] == 0]['mpg']\n",
        "manual = mtcars[mtcars['am'] == 1]['mpg']\n",
        "\n",
        "# 정규성, 등분산성 검정\n",
        "result1 = stats.shapiro(auto)\n",
        "result2 = stats.shapiro(manual)\n",
        "result3 = stats.bartlett(auto , manual)\n",
        "print(result1)\n",
        "print(result2)\n",
        "print(result3)"
      ],
      "execution_count": null,
      "outputs": [
        {
          "output_type": "stream",
          "text": [
            "(0.976774275302887, 0.8987362384796143)\n",
            "(0.9458035826683044, 0.536271333694458)\n",
            "BartlettResult(statistic=3.2258823148923645, pvalue=0.07248272665325972)\n"
          ],
          "name": "stdout"
        }
      ]
    },
    {
      "cell_type": "code",
      "metadata": {
        "id": "Y7xOk0-wJ1_e",
        "colab_type": "code",
        "colab": {
          "base_uri": "https://localhost:8080/",
          "height": 35
        },
        "outputId": "5c704d09-b9cb-447e-ddfd-9dfbe8a19cbf"
      },
      "source": [
        "# 독립표본 t검정 시행\n",
        "result4 = stats.ttest_ind(auto, manual)\n",
        "print(result4)\n",
        "# p-value값이 0.05보다 작기때문에 귀무가설 기각\n",
        "# => 기어유형에 따라 평균연비의 차이가 존재할 확률이 높음"
      ],
      "execution_count": null,
      "outputs": [
        {
          "output_type": "stream",
          "text": [
            "Ttest_indResult(statistic=-4.106126983100689, pvalue=0.0002850207439350686)\n"
          ],
          "name": "stdout"
        }
      ]
    },
    {
      "cell_type": "code",
      "metadata": {
        "id": "X1xiPtcYJ_0K",
        "colab_type": "code",
        "colab": {}
      },
      "source": [
        "# ex) 잔디 깍기 기계 생산 공장에서 작업시간 단축을 위해 2가지 공정이 제안되었음\n",
        "# A 공정방식은 5명의 근로자에 의해, B 공정방식은 6명의 근로자에 의해 \n",
        "# 각각 테스트가 진행되었을때, 작업시간의 차이가 있는지 검정하시오. \n",
        "# 유의수준 0.10을 사용한다\n",
        "# A 공정 : 2 4 9 3 2 (단위: 분)\n",
        "# B 공정 : 3 7 5 8 4 3\n",
        "\n",
        "# 귀무가설 : 각 공정방식에 의한 평균 작업시간의 차이가 없다\n",
        "# 대립가설 : 각 공정방식에 의한 평균 작업시간의 차이가 있다\n",
        "# 독립표본 t검정시 자유도df : (n1-1) + (n2-1)\n",
        "\n",
        "a = [2,4,9,3,2]\n",
        "b = [3,7,5,8,4,3]"
      ],
      "execution_count": null,
      "outputs": []
    },
    {
      "cell_type": "code",
      "metadata": {
        "id": "kN_QyrBmKKD2",
        "colab_type": "code",
        "colab": {
          "base_uri": "https://localhost:8080/",
          "height": 72
        },
        "outputId": "54fc4738-ade7-4b15-be25-fef8b7ec660f"
      },
      "source": [
        "# 정규성과 등분산성 검정\n",
        "result1 = stats.shapiro(a)\n",
        "result2 = stats.shapiro(b)\n",
        "result3 = stats.bartlett(a, b)\n",
        "print(result1)\n",
        "print(result2)\n",
        "print(result3)\n",
        "# a 표본은 정규성을 확실하게 띈다고 보기에 어려울 수 있음"
      ],
      "execution_count": null,
      "outputs": [
        {
          "output_type": "stream",
          "text": [
            "(0.7755950689315796, 0.05049796402454376)\n",
            "(0.8904140591621399, 0.3203631043434143)\n",
            "BartlettResult(statistic=0.4356449209175901, pvalue=0.509231991519868)\n"
          ],
          "name": "stdout"
        }
      ]
    },
    {
      "cell_type": "code",
      "metadata": {
        "id": "TNhGKu3OLR2T",
        "colab_type": "code",
        "colab": {
          "base_uri": "https://localhost:8080/",
          "height": 35
        },
        "outputId": "95988613-4321-485e-f8cb-97fb0708d898"
      },
      "source": [
        "# 독립표본 t검정실시\n",
        "result4 = stats.ttest_ind(a, b)\n",
        "print(result4)\n",
        "# p-value값이 0.05보다 크기때문에 귀무가설 채택\n",
        "# => 공정방식에 의한 평균 작업시간의 차이가 없다"
      ],
      "execution_count": null,
      "outputs": [
        {
          "output_type": "stream",
          "text": [
            "Ttest_indResult(statistic=-0.6620511221285622, pvalue=0.5245263510606547)\n"
          ],
          "name": "stdout"
        }
      ]
    },
    {
      "cell_type": "markdown",
      "metadata": {
        "id": "rhQYhtlLNW78",
        "colab_type": "text"
      },
      "source": [
        "# QQ plot\n",
        "* 통계추론은 대부분 모집단이 정규분포를 따른다는 가정하에서 진행됨\n",
        "* 수집데이터를 표준 정규분포의 분위수와 비교해서 그리는 그래프\n",
        "* 데이터가 정규성을 띈다면 직선에 가까운 형태로 그려짐\n",
        "\n"
      ]
    },
    {
      "cell_type": "code",
      "metadata": {
        "id": "O8_BIfn0NWLj",
        "colab_type": "code",
        "colab": {
          "base_uri": "https://localhost:8080/",
          "height": 443
        },
        "outputId": "b8328b1f-7eea-4c06-910c-9a27696edea1"
      },
      "source": [
        "np.random.seed(2007231000)\n",
        "\n",
        "n = 100\n",
        "x1 = np.random.normal(0,1, n) # 정규분포를 따르는 난수\n",
        "x2 = np.random.exponential(2, n) # 지수분포를 따르는 난수\n",
        "x3 = np.log1p(x2) # 지수분포난수를 로그화함\n",
        "\n",
        "f, ax = plt.subplots(2,3, figsize=(12,6))\n",
        "ax[0][0].boxplot(x1)\n",
        "stats.probplot(x1, plot=ax[1][0])  # qqplot\n",
        "\n",
        "ax[0][1].boxplot(x2)\n",
        "stats.probplot(x2, plot=ax[1][1])  # qqplot\n",
        "\n",
        "ax[0][2].boxplot(x3)\n",
        "stats.probplot(x3, plot=ax[1][2])  # qqplot\n",
        "\n",
        "print(stats.shapiro(x1))\n",
        "print(stats.shapiro(x2))\n",
        "print(stats.shapiro(x3))"
      ],
      "execution_count": null,
      "outputs": [
        {
          "output_type": "stream",
          "text": [
            "(0.9927886724472046, 0.8749861121177673)\n",
            "(0.8625355362892151, 3.545775939528539e-08)\n",
            "(0.9423452019691467, 0.0002687772794160992)\n"
          ],
          "name": "stdout"
        },
        {
          "output_type": "display_data",
          "data": {
            "image/png": "[encoded data removed]",
            "text/plain": [
              "<Figure size 864x432 with 6 Axes>"
            ]
          },
          "metadata": {
            "tags": [],
            "needs_background": "light"
          }
        }
      ]
    },
    {
      "cell_type": "code",
      "metadata": {
        "id": "Xi3kITnkQqSE",
        "colab_type": "code",
        "colab": {
          "base_uri": "https://localhost:8080/",
          "height": 283
        },
        "outputId": "eafd116f-ac0f-4c78-cb3f-8a77c3533750"
      },
      "source": [
        "sns.distplot(x1, fit=stats.norm)"
      ],
      "execution_count": null,
      "outputs": [
        {
          "output_type": "execute_result",
          "data": {
            "text/plain": [
              "<matplotlib.axes._subplots.AxesSubplot at 0x7f255c5cfe80>"
            ]
          },
          "metadata": {
            "tags": []
          },
          "execution_count": 21
        },
        {
          "output_type": "display_data",
          "data": {
            "image/png": "[encoded data removed]",
            "text/plain": [
              "<Figure size 432x288 with 1 Axes>"
            ]
          },
          "metadata": {
            "tags": [],
            "needs_background": "light"
          }
        }
      ]
    },
    {
      "cell_type": "code",
      "metadata": {
        "id": "izXAchrORHu-",
        "colab_type": "code",
        "colab": {
          "base_uri": "https://localhost:8080/",
          "height": 283
        },
        "outputId": "b2f6a8f6-a30c-459d-f1ce-2e15548bba7a"
      },
      "source": [
        "sns.distplot(x2, fit=stats.norm)"
      ],
      "execution_count": null,
      "outputs": [
        {
          "output_type": "execute_result",
          "data": {
            "text/plain": [
              "<matplotlib.axes._subplots.AxesSubplot at 0x7f255c674b70>"
            ]
          },
          "metadata": {
            "tags": []
          },
          "execution_count": 22
        },
        {
          "output_type": "display_data",
          "data": {
            "image/png": "[encoded data removed]",
            "text/plain": [
              "<Figure size 432x288 with 1 Axes>"
            ]
          },
          "metadata": {
            "tags": [],
            "needs_background": "light"
          }
        }
      ]
    },
    {
      "cell_type": "code",
      "metadata": {
        "id": "uWcSA29fRJhS",
        "colab_type": "code",
        "colab": {
          "base_uri": "https://localhost:8080/",
          "height": 283
        },
        "outputId": "c19f33aa-373a-4969-9cab-154aed467e3f"
      },
      "source": [
        "sns.distplot(x3, fit=stats.norm)"
      ],
      "execution_count": null,
      "outputs": [
        {
          "output_type": "execute_result",
          "data": {
            "text/plain": [
              "<matplotlib.axes._subplots.AxesSubplot at 0x7f255c645f98>"
            ]
          },
          "metadata": {
            "tags": []
          },
          "execution_count": 23
        },
        {
          "output_type": "display_data",
          "data": {
            "image/png": "[encoded data removed]",
            "text/plain": [
              "<Figure size 432x288 with 1 Axes>"
            ]
          },
          "metadata": {
            "tags": [],
            "needs_background": "light"
          }
        }
      ]
    },
    {
      "cell_type": "code",
      "metadata": {
        "id": "pMJiA730SI2J",
        "colab_type": "code",
        "colab": {
          "base_uri": "https://localhost:8080/",
          "height": 282
        },
        "outputId": "20c96016-b360-4a56-da39-462313b9b50a"
      },
      "source": [
        "sns.distplot(a, fit=stats.norm)\n",
        "sns.distplot(b, fit=stats.norm)"
      ],
      "execution_count": null,
      "outputs": [
        {
          "output_type": "execute_result",
          "data": {
            "text/plain": [
              "<matplotlib.axes._subplots.AxesSubplot at 0x7f255c79c518>"
            ]
          },
          "metadata": {
            "tags": []
          },
          "execution_count": 24
        },
        {
          "output_type": "display_data",
          "data": {
            "image/png": "[encoded data removed]",
            "text/plain": [
              "<Figure size 432x288 with 1 Axes>"
            ]
          },
          "metadata": {
            "tags": [],
            "needs_background": "light"
          }
        }
      ]
    },
    {
      "cell_type": "code",
      "metadata": {
        "id": "WPOsofeOXspH",
        "colab_type": "code",
        "colab": {
          "base_uri": "https://localhost:8080/",
          "height": 90
        },
        "outputId": "46f2ede8-7f44-4755-b468-38355298ba50"
      },
      "source": [
        "# ex) 영업사원과 감사부사원의 하루 출장비에\n",
        "# 차이가 있는지 검정하시오 (유의수준 0.10)\n",
        "# sales : 131 135 146 165 136 142\n",
        "# audits : 130 102 129 143 149 120 139  \n",
        "# 영업부서가 감사부서보다 출장비가 많다고 할 수 있는가?\n",
        "\n",
        "sales = [131,135,146,165,136,142]\n",
        "audits = [130, 102, 129, 143, 149, 120, 139]  \n",
        "\n",
        "# 귀무가설 : 영업부서가 감사부서보다 출장비가 같거나 작다 (<=)\n",
        "# 대립가설 : 영업부서가 감사부서보다 출장비가 많다 (>)\n",
        "\n",
        "# 정규성/등분산성\n",
        "print(stats.shapiro(sales))\n",
        "print(stats.shapiro(audits))\n",
        "print(stats.bartlett(sales,audits))\n",
        "\n",
        "# 독립표본 t검정\n",
        "stats.ttest_ind(sales, audits)\n",
        "\n",
        "# => ttest_ind 함수의 결과는 양측검정을 위한 값임\n",
        "# => 따라서, 단측검정one-sided을 하려면, p-value/2로 비교함\n",
        "# => 0.153 / 2 => 0.0765~\n",
        "# => 유의 확률 0.10기준 pvalue가 작으므로 귀무가설 기각 \n",
        "# => 영업부 출장비가 많을 확률이 높음"
      ],
      "execution_count": null,
      "outputs": [
        {
          "output_type": "stream",
          "text": [
            "(0.8661074638366699, 0.21112492680549622)\n",
            "(0.9487473964691162, 0.7182835936546326)\n",
            "BartlettResult(statistic=0.3146541578335654, pvalue=0.5748381522579644)\n"
          ],
          "name": "stdout"
        },
        {
          "output_type": "execute_result",
          "data": {
            "text/plain": [
              "Ttest_indResult(statistic=1.5367956504902474, pvalue=0.1525942542150006)"
            ]
          },
          "metadata": {
            "tags": []
          },
          "execution_count": 29
        }
      ]
    },
    {
      "cell_type": "code",
      "metadata": {
        "id": "wWUhGxKFct9n",
        "colab_type": "code",
        "colab": {
          "base_uri": "https://localhost:8080/",
          "height": 35
        },
        "outputId": "59cba4eb-47bb-41cc-a51b-0e48ebf2590e"
      },
      "source": [
        "# ex) 모델회사의 두 모델 수입이 다음과 같을때\n",
        "# kim이라는 모델이 park 이라는 모델의 수입보다\n",
        "# 크다고 할수 있는지 유의수준 0.05로 검정하시오\n",
        "# kim : 5, 4.5, 3.4, 3.4, 6, 3.3, 4.5, 4.6, 3.5, 5.2, 4.8, 4.4, 4.6, 3.6, 5.0 \n",
        "# park : 3.1, 3.7, 3.6, 4.0, 3.8, 3.8, 5.9, 4.9, 3.6, 3.6, 2.3, 4.0\n",
        "\n",
        "kim = [5, 4.5, 3.4, 3.4, 6, 3.3, 4.5, 4.6, 3.5, 5.2, 4.8, 4.4, 4.6, 3.6, 5.0]\n",
        "park= [3.1, 3.7, 3.6, 4.0, 3.8, 3.8, 5.9, 4.9, 3.6, 3.6, 2.3, 4.0]\n",
        "\n",
        "t, p = stats.ttest_ind(kim, park)\n",
        "print(p, p/2)"
      ],
      "execution_count": null,
      "outputs": [
        {
          "output_type": "stream",
          "text": [
            "0.11421599270766702 0.05710799635383351\n"
          ],
          "name": "stdout"
        }
      ]
    },
    {
      "cell_type": "markdown",
      "metadata": {
        "id": "VgL1wMOaiLu7",
        "colab_type": "text"
      },
      "source": [
        "# 짝paired 표본을 이용한 가설검정\n",
        "* 동일한 집단의 전/후 차이를 비교하기 위해 사용\n",
        "* 짝paired 표본 : 동일한 모집단으로 부터\n",
        "  추출된 서로 연관있는 2개의 표본을 의미\n",
        "* 주의점 : 짝paired 표본의 갯수는 서로 동일해야 함\n",
        "* 파이썬에서는 ttets_rel함수를 사용해서 짝표본 t검정 시행"
      ]
    },
    {
      "cell_type": "code",
      "metadata": {
        "id": "tCMYSqJvjAda",
        "colab_type": "code",
        "colab": {
          "base_uri": "https://localhost:8080/",
          "height": 90
        },
        "outputId": "5b42158c-7755-4cb5-f435-302fb35c5787"
      },
      "source": [
        "# ex) 10명 학생의 과외 받기 전/후 수학 \n",
        "# 성적차이를 비교하시오 (유의수준 0.05)\n",
        "\n",
        "before = [16,20,21,22,23,22,27,25,27,28]\n",
        "after = [19,22,24,24,25,25,26,26,28,32]\n",
        "\n",
        "# 정규성, 등분산성 확인\n",
        "print(stats.shapiro(before))\n",
        "print(stats.shapiro(after))\n",
        "print(stats.bartlett(before, after))\n",
        "# 짝 표본 t검정\n",
        "print(stats.ttest_rel(before, after))"
      ],
      "execution_count": null,
      "outputs": [
        {
          "output_type": "stream",
          "text": [
            "(0.9480883479118347, 0.645940363407135)\n",
            "(0.9554644823074341, 0.7331799864768982)\n",
            "BartlettResult(statistic=0.051569421877824824, pvalue=0.8203545237328987)\n",
            "Ttest_relResult(statistic=-4.47213595499958, pvalue=0.00154988591170182)\n"
          ],
          "name": "stdout"
        }
      ]
    },
    {
      "cell_type": "code",
      "metadata": {
        "id": "rgc8XvVTkImB",
        "colab_type": "code",
        "colab": {
          "base_uri": "https://localhost:8080/",
          "height": 34
        },
        "outputId": "08951879-475a-4fed-debc-011a3ef755d4"
      },
      "source": [
        "# ex) 상호금융회사는 부동산 가치 평가를 위해 2개의 평가회사를 고용했음\n",
        "# 임의로 10채의 주택을 추출해서 각 회사에 주택 가치평가 의뢰 \n",
        "# 평가 회사별 가치 평가 차이가 있는가? 유의수준 0.05로 검정하시오  \n",
        "\n",
        "# woori : 235, 210, 231, 242, 205, 230, 231, 210, 225, 249\n",
        "# shinhan : 228, 205, 219, 240, 198, 223, 227, 215, 222, 245  \n",
        "\n",
        "woori = [235, 210, 231, 242, 205, 230, 231, 210, 225, 249]\n",
        "shinhan = [228, 205, 219, 240, 198, 223, 227, 215, 222, 245]\n",
        "\n",
        "print(stats.ttest_rel(woori, shinhan))\n"
      ],
      "execution_count": null,
      "outputs": [
        {
          "output_type": "stream",
          "text": [
            "Ttest_relResult(statistic=3.304500684012972, pvalue=0.009163900170900421)\n"
          ],
          "name": "stdout"
        }
      ]
    },
    {
      "cell_type": "code",
      "metadata": {
        "id": "RTVHsgn4kZoN",
        "colab_type": "code",
        "colab": {
          "base_uri": "https://localhost:8080/",
          "height": 34
        },
        "outputId": "685f4d52-4b80-484d-ace1-72c083339726"
      },
      "source": [
        "before = [320, 290, 421, 510, 210, 402, 625, 560, 360, 431, 506, 505]\n",
        "after = [340, 285, 475, 510, 210, 500, 631,560, 365, 431, 525, 619]\n",
        "\n",
        "t, p = stats.ttest_rel(before, after)\n",
        "print(p/2)"
      ],
      "execution_count": null,
      "outputs": [
        {
          "output_type": "stream",
          "text": [
            "0.02500246921848288\n"
          ],
          "name": "stdout"
        }
      ]
    }
  ]
}