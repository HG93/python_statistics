{
  "nbformat": 4,
  "nbformat_minor": 0,
  "metadata": {
    "colab": {
      "name": "파이썬통계11-통계와데이터.ipynb",
      "provenance": [],
      "collapsed_sections": [
        "lNpvI1kpbJG4",
        "TAU-KHypbl0P",
        "VypI-hx83F6C",
        "u1oTmnV4w1Lk",
        "MZIAbsdJ2LzY",
        "M6kVVfHZvfNf",
        "EkytxESk4lxY",
        "SaGJn4Lh7qzg",
        "GEPuytHwAf-x",
        "tGG6bXo5xEf6",
        "htFxLr5v3Poj",
        "LTuuUUqC6Fyz",
        "Hlx6DH1c8_84",
        "rK9VL_l0KQzP",
        "TcntCMg-SmMK",
        "wt-c_fZtVurw",
        "aZq6FydOwkw6",
        "96Fx6x5GApXW",
        "xiCvnyeDCfyy"
      ]
    },
    "kernelspec": {
      "name": "python3",
      "display_name": "Python 3"
    }
  },
  "cells": [
    {
      "cell_type": "markdown",
      "metadata": {
        "id": "lNpvI1kpbJG4",
        "colab_type": "text"
      },
      "source": [
        "# 통계\n",
        "```\n",
        "* 분석하고자 하는 집단과 관련해 조사나 실험의 결과로 얻는 자료 또는 이의 요약된 형태를 의미\n",
        "* 통계학 : 좀더 효과적인 의사결정을 할 수 있도록 수치자료를 수집,정리,표현,분석하는 학문\n",
        "* 통계는 항상 반례 가능성을 가지고 있음\n",
        "* 관련 통계 분야 : 사회과학통계, 자연과학통계, 수학학통계\n",
        "```"
      ]
    },
    {
      "cell_type": "markdown",
      "metadata": {
        "id": "TAU-KHypbl0P",
        "colab_type": "text"
      },
      "source": [
        "# 통계학의 유형\n",
        "\t1. 기술통계학 - 자료중심 통계\n",
        "\t                수집한 데이터를 요약, 묘사, 설명하는 통계기법 \n",
        "                   그래프,표,수치를 이용해서 집단의 특성 파악\n",
        "                   대표값, 분산\n",
        "\n",
        "\t2. 추론통계학 - 예측 중심 통계 (중요도높음)\n",
        "\t                수집된 데이터를 바탕으로 예측하는 통계기법\n",
        "                   관측된 자료를 이용해서 모집단 특성 추측\n",
        "\t\t1).모수통계 \n",
        "\t\t\t가.빈도분석\n",
        "\t\t\t나.상관분석\n",
        "\t\t\t다.세 집단이상 평균분석\n",
        "\t\t\t라.회귀분석(!!!)\n",
        "\t\t2).비모수통계\n",
        "\t\t\t가.적합도검증\n",
        "\t\t\t나.변수간 상관분석"
      ]
    },
    {
      "cell_type": "markdown",
      "metadata": {
        "id": "mUDj4yoG3L6A",
        "colab_type": "text"
      },
      "source": [
        "데이터를 이해하는 마음가짐\n",
        "* 데이터가 숲이라고 가정한다면\n",
        "\t+ 처음부터 숲의 나무를 보고 자세히 관찰한다기 보다는\n",
        "\t+ 개략적으로 숲의 모양을 보고 특징을 파악하고 나무를 관찰할 것!\n",
        "\t+ 데이터도 이런식의 접근방식을 사용해야 함\n",
        "\n",
        "* 데이터의 특징이란\n",
        "\t+ 말로 표현하기 보다는\n",
        "\t+ 숫자로 표현하여야 하고\n",
        "\t+ 주로 평균,편차 등등을 활용하는데\n",
        "\t+ 이렇게 숫자로 데이터의 특징을 표현하는 과정을 \"요약summary\" 이라함\n",
        "\n",
        "* 데이터 분석 순서\n",
        "\t+ 데이터를 처음 만나면\n",
        "\t+ 요약을 먼저하고 데이터의 특징을 파악해서\n",
        "\t+ 어떤 차이가 있는지 파악해서\n",
        " \t+ 데이터 분석방향을 설정할 것!"
      ]
    },
    {
      "cell_type": "markdown",
      "metadata": {
        "id": "VypI-hx83F6C",
        "colab_type": "text"
      },
      "source": [
        "# 표본 추출방법\n",
        "표본조사 : 더조은 수강생 5000명 대상\n",
        "\t 사용중인 핸드폰 선호도 조사를 위해 25명 선정\n",
        "         모집단 : 수강생 5000명\n",
        "         표본 : 수강생 30명\n",
        "\n",
        "단순 랜덤 : Simple Random Sampling\n",
        "\t모집단 개체에 번호표 부여 후 30명 추출\n",
        "        추출틀 이용\n",
        "\n",
        "계통 추출 : 기본적으로 SRS와 유사\n",
        "          단, '개체수/표본수'로 계산되는 k값을 알아냄\n",
        "\t  1 ~ n의 숫자중 하나를 선택하고\n",
        "   \t  그 숫자에 k를 더해서 개체들을 선택\n",
        "\t  예) k : 3000 / 30 => 100\n",
        "          임의의 숫자 뽑음(1~3000): 25\n",
        "          25, 125, 225, 325,..., 2925\n",
        "\n",
        "층화 추출 : 모집단을 몇개의 계층(고유특성)으로 나누어 표본 추출\n",
        "          ex) 모집단 : 3000명 => 남/여 수 파악\n",
        "          각 계층별로 번호 부여 : 남=2100, 여=900\n",
        "          계층별 비율 계산 : 남여비율 = 7:3\n",
        "          따라서, 남자은 21명, 여자는 9명을 SRS으로 추출\n",
        "\n",
        "군집 추출 : 모집단을 몇개의 군집(가변특성)으로 나누어 표본 추출\n",
        "          ex)모집단을 학력수준/거주지역으로 나눔\n",
        "          각 군집별로 번호부여 (고졸,대졸,대학원졸/서울/경기/부산)_\n",
        "          임의의 그룹을 선택하고 번호표 부여후 비율별로 SRS 추출"
      ]
    },
    {
      "cell_type": "code",
      "metadata": {
        "id": "fLubcL_LcSox",
        "colab_type": "code",
        "colab": {}
      },
      "source": [
        "import numpy as np\n",
        "import pandas as pd\n",
        "nums = np.arange(1,10+1)"
      ],
      "execution_count": null,
      "outputs": []
    },
    {
      "cell_type": "code",
      "metadata": {
        "id": "oC_-Y4p7ldFp",
        "colab_type": "code",
        "colab": {
          "base_uri": "https://localhost:8080/",
          "height": 35
        },
        "outputId": "fce1ba0c-43c1-4f59-8aae-cd2625205901"
      },
      "source": [
        "# 1~10사이 정수 중 3개를 복원추출\n",
        "np.random.choice(nums, 5, replace=True)"
      ],
      "execution_count": null,
      "outputs": [
        {
          "output_type": "execute_result",
          "data": {
            "text/plain": [
              "array([ 1, 10,  7,  2,  2])"
            ]
          },
          "metadata": {
            "tags": []
          },
          "execution_count": 25
        }
      ]
    },
    {
      "cell_type": "code",
      "metadata": {
        "id": "9u00_MAcl7f5",
        "colab_type": "code",
        "colab": {
          "base_uri": "https://localhost:8080/",
          "height": 35
        },
        "outputId": "a6f84dd8-3a80-4162-9fd7-0c45964ac315"
      },
      "source": [
        "# 1~10사이 정수 중 5개를 비복원추출\n",
        "np.random.choice(nums, 5, replace=False)"
      ],
      "execution_count": null,
      "outputs": [
        {
          "output_type": "execute_result",
          "data": {
            "text/plain": [
              "array([ 5,  3,  9, 10,  7])"
            ]
          },
          "metadata": {
            "tags": []
          },
          "execution_count": 23
        }
      ]
    },
    {
      "cell_type": "code",
      "metadata": {
        "id": "zoLNbOtAmpFp",
        "colab_type": "code",
        "colab": {
          "base_uri": "https://localhost:8080/",
          "height": 35
        },
        "outputId": "c9d5bd59-a764-4418-9fea-fec5c7ebe0bf"
      },
      "source": [
        "# 1~5사이 정수 중 1개를 복원추출로 표본을 선택하세요\n",
        "# 단, 각 표본의 확률은 [0.0 0.5 0.0 0.5 0.0]으로 설정함\n",
        "nums = [1,2,3,4,5]\n",
        "np.random.choice(nums, 1, replace=True,\tp=[0.0, 0.5, 0.0, 0.5, 0.0])"
      ],
      "execution_count": null,
      "outputs": [
        {
          "output_type": "execute_result",
          "data": {
            "text/plain": [
              "array([4])"
            ]
          },
          "metadata": {
            "tags": []
          },
          "execution_count": 31
        }
      ]
    },
    {
      "cell_type": "markdown",
      "metadata": {
        "id": "u1oTmnV4w1Lk",
        "colab_type": "text"
      },
      "source": [
        "# 자료의 종류\n",
        "\n",
        "* 질적자료 : 문자로 표현된 자료\n",
        "\t\t+ 명목자료 : 일반적인 범주형 데이터\n",
        "\t\t\tex) 남,여\n",
        "\t\t+ 순서자료 : 순서의 의미가 포함된 데이터\n",
        "\t\t\tex) 초등학교,중학교,고등학교,대학교\n",
        "\t\t+ 구간자료 : 양적자료를 구간별로 나누어 명목/순서의 의미를 포함시킨 데이터\n",
        "\t\t\tex) 수,우,미,양,가\n",
        "\t\t+ 비율자료 : 양적자료를 구간별로 나누어 서열/비율(산술)의 의미를 포함시킨 데이터\n",
        "\t\t\tex) 몸무게, 시간, 키 \n",
        "\n",
        "* 양적자료 : 숫자로 표현된 자료\n",
        "\t\t+ 이산형 : 셈이 가능한 양적자료, 정수형데이터\n",
        "\t\t+ 연속형 : 셈이 불가능한 양적자료, 실수형 데이터"
      ]
    },
    {
      "cell_type": "markdown",
      "metadata": {
        "id": "MZIAbsdJ2LzY",
        "colab_type": "text"
      },
      "source": [
        "# 통계분석시 중요 개념\n",
        "* 개체item     : 연구자 또는 관찰자가 관심을 가지는 대상\n",
        "\t\tex) 더조은 수강생\n",
        "\n",
        "* 요인factor   : 개체가 가지는 특성 중 연구자 또는 관찰자가\n",
        "\t\t특별히 관심을 갖는 특성  ex) 수강생 신체조건, 경력사항\n",
        "\n",
        "* 변수variable : 요인을 구성하고 있는 요소\n",
        "\t\tex) 키, 몸무게, 성별, 혈액형\n",
        "\t\tex) 학위, 직장명, 근무연수, 직무"
      ]
    },
    {
      "cell_type": "markdown",
      "metadata": {
        "id": "M6kVVfHZvfNf",
        "colab_type": "text"
      },
      "source": [
        "# 모집단과 표본\n",
        ">>\n",
        "  * **모집단** : 통계 목적에 부합하는 모든 자료들의 집단  \n",
        "      + $U$ 로 표현, 모집단의 크기는 $N$으로 표현\n",
        ">>\n",
        "  * **표본** : 모집단의 일부인 자료들의 집단\t  \n",
        "      + $S$ 로 표현, 표본의 크기는 $n$으로 표현"
      ]
    },
    {
      "cell_type": "markdown",
      "metadata": {
        "id": "EkytxESk4lxY",
        "colab_type": "text"
      },
      "source": [
        "# 중심화경향 - 수집한 자료 전체를 대표하는 값이 무엇인지 나타내는 통계 (대표값)\n",
        "      * 평균    \n",
        "      * 중앙값\n",
        "      * 최빈값      \n",
        "# 분산경향 - 데이터가 어떻게 분포되어 있는지 설명하는 통계치\n",
        "      * 범위\n",
        "      * 사분위수\n",
        "      * 분산\n",
        "      * 표준편차\n"
      ]
    },
    {
      "cell_type": "markdown",
      "metadata": {
        "id": "SaGJn4Lh7qzg",
        "colab_type": "text"
      },
      "source": [
        "# 대표값\n",
        "평균 : 중심 척도의 대표적인 통계값\n",
        "* 평균은 유일하다\n",
        "* 평균은 계산하기 쉽다\n",
        "* 모든 측정값을 반영한다\n",
        "* 단, 평균은 특이값(이상치)에 영향을 받는다\n",
        "\n",
        "모평균 : $ \\mu $, 모집단의 모든 값을 더한 후 모집단의 갯수로 나눈 수치\n",
        ">>\n",
        "$$ {\\mu} = \\dfrac{1}{N} \\sum_{i=1}^N x_i $$\n",
        "\n",
        "표본평균 : $ \\bar x$, 표본의 모든 값을 더한 후 표본의 갯수로 나눈 수치\n",
        ">>\n",
        "$$ {\\bar x} = \\dfrac{1}{n}\\sum_{i=1}^{n}x_i $$"
      ]
    },
    {
      "cell_type": "code",
      "metadata": {
        "id": "GDbfuWGT7qjj",
        "colab_type": "code",
        "colab": {
          "base_uri": "https://localhost:8080/",
          "height": 53
        },
        "outputId": "7a129193-9e49-4edc-8fb0-232fb18ab305"
      },
      "source": [
        "# 특이값(이상치)에 영향을 받는다\n",
        "nums1 = [1,2,3,4,5,6,7,8,9,10]\n",
        "nums2 = [1,2,3,4,5,6,7,8,9,100]\n",
        "\n",
        "print(sum(nums1) / len(nums1))\n",
        "print(np.mean(nums2))"
      ],
      "execution_count": null,
      "outputs": [
        {
          "output_type": "stream",
          "text": [
            "5.5\n",
            "14.5\n"
          ],
          "name": "stdout"
        }
      ]
    },
    {
      "cell_type": "code",
      "metadata": {
        "id": "Bl-bzkfD-UP-",
        "colab_type": "code",
        "colab": {
          "base_uri": "https://localhost:8080/",
          "height": 35
        },
        "outputId": "0288fe02-96d6-40cf-d820-8c70500ad8ff"
      },
      "source": [
        "# 조선조 왕들의 평균수명을 조사\n",
        "kings = [73,62,45,53,38,16,51,28,37,30,56,30,33,56,\n",
        "         66,54,40,33,59,36,82,48,44,22,32,67,52]\n",
        "print(np.mean(kings).round(1))"
      ],
      "execution_count": null,
      "outputs": [
        {
          "output_type": "stream",
          "text": [
            "46.0\n"
          ],
          "name": "stdout"
        }
      ]
    },
    {
      "cell_type": "markdown",
      "metadata": {
        "id": "GEPuytHwAf-x",
        "colab_type": "text"
      },
      "source": [
        "# 중앙값median\n",
        "* 자료를 오름차순으로 나열한 후 가장 가운데 놓인 수  \n",
        "* 특이값의 영향을 받는 평균을 보완한 수치  \n",
        "* 자료 갯수가 짝수인 경우와 홀수인 경우 계산하는 방법이 다름  \n",
        "\n",
        "$$ M_e $$\n"
      ]
    },
    {
      "cell_type": "code",
      "metadata": {
        "id": "jdtPiOrGDE9e",
        "colab_type": "code",
        "colab": {
          "base_uri": "https://localhost:8080/",
          "height": 35
        },
        "outputId": "71d2c79f-731d-4fd7-eca6-e3b432af3e1d"
      },
      "source": [
        "# 조선조 왕들 수명의 중앙값을 조사\n",
        "# numpy의 median함수를 사용함\n",
        "kings = [73,62,45,53,38,16,51,28,37,30,56,30,33,56,66,54,40,33,59,36,82,48,44,22,32,67,52]\n",
        "\n",
        "kings = sorted(kings)         # 정렬하기\n",
        "pos = int((len(kings)+1) / 2) # 위치 계산\n",
        "print(kings[pos-1], np.median(kings))"
      ],
      "execution_count": null,
      "outputs": [
        {
          "output_type": "stream",
          "text": [
            "45 45.0\n"
          ],
          "name": "stdout"
        }
      ]
    },
    {
      "cell_type": "code",
      "metadata": {
        "id": "8Q-65iKEsMkf",
        "colab_type": "code",
        "colab": {
          "base_uri": "https://localhost:8080/",
          "height": 359
        },
        "outputId": "41149fac-67cc-4223-93fa-afa0e224d5b3"
      },
      "source": [
        "# 중앙값 계산\n",
        "scores = pd.DataFrame({'score':[42,69,56,41,57,48,65,49,65,58]})\n",
        "scores.index = np.arange(1,10+1)\n",
        "scores"
      ],
      "execution_count": null,
      "outputs": [
        {
          "output_type": "execute_result",
          "data": {
            "text/html": [
              "<div>\n",
              "<style scoped>\n",
              "    .dataframe tbody tr th:only-of-type {\n",
              "        vertical-align: middle;\n",
              "    }\n",
              "\n",
              "    .dataframe tbody tr th {\n",
              "        vertical-align: top;\n",
              "    }\n",
              "\n",
              "    .dataframe thead th {\n",
              "        text-align: right;\n",
              "    }\n",
              "</style>\n",
              "<table border=\"1\" class=\"dataframe\">\n",
              "  <thead>\n",
              "    <tr style=\"text-align: right;\">\n",
              "      <th></th>\n",
              "      <th>score</th>\n",
              "    </tr>\n",
              "  </thead>\n",
              "  <tbody>\n",
              "    <tr>\n",
              "      <th>1</th>\n",
              "      <td>42</td>\n",
              "    </tr>\n",
              "    <tr>\n",
              "      <th>2</th>\n",
              "      <td>69</td>\n",
              "    </tr>\n",
              "    <tr>\n",
              "      <th>3</th>\n",
              "      <td>56</td>\n",
              "    </tr>\n",
              "    <tr>\n",
              "      <th>4</th>\n",
              "      <td>41</td>\n",
              "    </tr>\n",
              "    <tr>\n",
              "      <th>5</th>\n",
              "      <td>57</td>\n",
              "    </tr>\n",
              "    <tr>\n",
              "      <th>6</th>\n",
              "      <td>48</td>\n",
              "    </tr>\n",
              "    <tr>\n",
              "      <th>7</th>\n",
              "      <td>65</td>\n",
              "    </tr>\n",
              "    <tr>\n",
              "      <th>8</th>\n",
              "      <td>49</td>\n",
              "    </tr>\n",
              "    <tr>\n",
              "      <th>9</th>\n",
              "      <td>65</td>\n",
              "    </tr>\n",
              "    <tr>\n",
              "      <th>10</th>\n",
              "      <td>58</td>\n",
              "    </tr>\n",
              "  </tbody>\n",
              "</table>\n",
              "</div>"
            ],
            "text/plain": [
              "    score\n",
              "1      42\n",
              "2      69\n",
              "3      56\n",
              "4      41\n",
              "5      57\n",
              "6      48\n",
              "7      65\n",
              "8      49\n",
              "9      65\n",
              "10     58"
            ]
          },
          "metadata": {
            "tags": []
          },
          "execution_count": 4
        }
      ]
    },
    {
      "cell_type": "code",
      "metadata": {
        "id": "Tva-AWPJs4Ru",
        "colab_type": "code",
        "colab": {
          "base_uri": "https://localhost:8080/",
          "height": 35
        },
        "outputId": "21ba81f8-6e66-4bfc-d240-60a5a4db88e1"
      },
      "source": [
        "sorted_sc = np.sort(scores['score'])\n",
        "\n",
        "n = len(sorted_sc)\n",
        "\n",
        "med = 0\n",
        "if n % 2 != 0: # 홀수\n",
        "   med = sorted_sc[((n+1)//2)-1]\n",
        "else:          # 짝수\n",
        "   p1 = sorted_sc[(n//2)]\n",
        "   p2 = sorted_sc[(n//2)-1]\n",
        "   med = (p1 + p2) / 2\n",
        "\n",
        "print(sorted_sc, p1,p2,med)"
      ],
      "execution_count": null,
      "outputs": [
        {
          "output_type": "stream",
          "text": [
            "[41 42 48 49 56 57 58 65 65 69] 57 56 56.5\n"
          ],
          "name": "stdout"
        }
      ]
    },
    {
      "cell_type": "markdown",
      "metadata": {
        "id": "tGG6bXo5xEf6",
        "colab_type": "text"
      },
      "source": [
        "# 최빈값\n",
        "* 두번 이상 발생하는 자료 중에서 자주 나타나는 자료값\n",
        "* 극단값에 전혀 영향을 받지 않음\n",
        "* 존재하지 않거나 여러개 존재할 수 있음\n",
        "\n",
        "$$ M_O $$"
      ]
    },
    {
      "cell_type": "code",
      "metadata": {
        "id": "1w93qO0Gx9bh",
        "colab_type": "code",
        "colab": {
          "base_uri": "https://localhost:8080/",
          "height": 107
        },
        "outputId": "78e462b9-2cfc-4414-966b-c09f35171c39"
      },
      "source": [
        "# 조선조 왕들 수명의 최빈값을 조사\n",
        "# pandas의 mode함수를 사용함\n",
        "\n",
        "print(sorted(kings))\n",
        "pd.Series(kings).mode()"
      ],
      "execution_count": null,
      "outputs": [
        {
          "output_type": "stream",
          "text": [
            "[16, 22, 28, 30, 30, 32, 33, 33, 36, 37, 38, 40, 44, 45, 48, 51, 52, 53, 54, 56, 56, 59, 62, 66, 67, 73, 82]\n"
          ],
          "name": "stdout"
        },
        {
          "output_type": "execute_result",
          "data": {
            "text/plain": [
              "0    30\n",
              "1    33\n",
              "2    56\n",
              "dtype: int64"
            ]
          },
          "metadata": {
            "tags": []
          },
          "execution_count": 30
        }
      ]
    },
    {
      "cell_type": "markdown",
      "metadata": {
        "id": "htFxLr5v3Poj",
        "colab_type": "text"
      },
      "source": [
        "# 기술통계의 또 다른 관점 : 분산, 산포\n",
        "* 자료의 흩어지거나 밀집되는 정도를 나타내는 척도\n",
        "* 범위, 사분위수, 분산, 표준편차등으로 표현"
      ]
    },
    {
      "cell_type": "code",
      "metadata": {
        "id": "Z1K1Pag52lKF",
        "colab_type": "code",
        "colab": {
          "base_uri": "https://localhost:8080/",
          "height": 35
        },
        "outputId": "fcbcb44c-351b-46e9-e85e-3f670efb316a"
      },
      "source": [
        "# 평균이 동일한 자료들의 분산\n",
        "A = [1,2,3,4,5,5,5,6,7,8,8,9,9,9,9]\n",
        "B = [4,5,5,5,6,6,6,6,6,6,6,7,7,7,8]\n",
        "\n",
        "print(np.mean(A), np.mean(B))"
      ],
      "execution_count": null,
      "outputs": [
        {
          "output_type": "stream",
          "text": [
            "6.0 6.0\n"
          ],
          "name": "stdout"
        }
      ]
    },
    {
      "cell_type": "markdown",
      "metadata": {
        "id": "LTuuUUqC6Fyz",
        "colab_type": "text"
      },
      "source": [
        "# 범위\n",
        "* 수집한 자료의 가장 큰 값과 작은 값의 차이\n",
        "* 수집한 자료가 어느정도 흩어져 있는지 살펴볼 수 있는 통계치\n",
        "* 계산하기 쉽다\n",
        "* 특이값에 영향을 많이 받는다\n",
        "* 범위가 동일해도 분산정도는 크게 다를 수 있다\n",
        "\n",
        "$$ R = x_{(n)} - x_{(1)} $$\n"
      ]
    },
    {
      "cell_type": "code",
      "metadata": {
        "id": "61Y785_x67Kr",
        "colab_type": "code",
        "colab": {
          "base_uri": "https://localhost:8080/",
          "height": 34
        },
        "outputId": "943a9060-0d73-48fc-fce1-e4b7cf9833b0"
      },
      "source": [
        "# 다음 리스트의 범위를 구하세요\n",
        "nums = [3,4,6,7,7,9]\n",
        "\n",
        "max = np.max(nums)\n",
        "min = np.min(nums)\n",
        "max - min"
      ],
      "execution_count": null,
      "outputs": [
        {
          "output_type": "execute_result",
          "data": {
            "text/plain": [
              "6"
            ]
          },
          "metadata": {
            "tags": []
          },
          "execution_count": 37
        }
      ]
    },
    {
      "cell_type": "code",
      "metadata": {
        "id": "iiDAzqyO7ERX",
        "colab_type": "code",
        "colab": {
          "base_uri": "https://localhost:8080/",
          "height": 34
        },
        "outputId": "da774877-7f1b-4cde-f60f-c891266efb28"
      },
      "source": [
        "# 조선조 왕들 수명의 범위를 조사\n",
        "max = np.max(kings)\n",
        "min = np.min(kings)\n",
        "max - min"
      ],
      "execution_count": null,
      "outputs": [
        {
          "output_type": "execute_result",
          "data": {
            "text/plain": [
              "66"
            ]
          },
          "metadata": {
            "tags": []
          },
          "execution_count": 38
        }
      ]
    },
    {
      "cell_type": "markdown",
      "metadata": {
        "id": "Hlx6DH1c8_84",
        "colab_type": "text"
      },
      "source": [
        "# 분산\n",
        "* 평균을 중심으로 밀집되거나 퍼짐 정도를 나타내는 척도\n",
        "* 모분산 $ \\sigma^2 $ : 모집단을 구성하는 모든 자료값과 모평균의 편차제곱에 대한 평균\n",
        "* 표본분산 $ s^2 $: 표본을 구성하는 모든 자료값과 표본평균의 편차의 제곱합을 n-1로 나눈 수치\n",
        "\n",
        "![분산설명이미지](https://drive.google.com/uc?id=1WRINjF2mqYuQF4zCW3FLmoERXIV0ZLIo)\n",
        "\n",
        "**편차 제곱**\n",
        "  * 각 관측값을 평균에서 뺀 값의 제곱\n",
        "  $$ (x_i - \\bar x)^2 $$ \n",
        "\n",
        "**모분산**  \n",
        "   $$ \\sigma^2 $$\n",
        "**표본분산** \n",
        "   $$ s^2 $$"
      ]
    },
    {
      "cell_type": "code",
      "metadata": {
        "id": "2SiGxcJH_V0y",
        "colab_type": "code",
        "colab": {
          "base_uri": "https://localhost:8080/",
          "height": 34
        },
        "outputId": "f892029a-4aa8-46e0-bfa4-d73463b38097"
      },
      "source": [
        "# 데이터 A, B에 대한 편차제곱을 계산하세요\n",
        "# 데이터 A에 대한 편차제곱\n",
        "# [1,2,3,4,5,5,5,6,7,8,8,9,9,9,9]\n",
        "meanA = np.mean(A)\n",
        "deviA = A - meanA\n",
        "dsqrA = deviA ** 2\n",
        "print(meanA, deviA, dsqrA) "
      ],
      "execution_count": null,
      "outputs": [
        {
          "output_type": "stream",
          "text": [
            "6.0 [-5. -4. -3. -2. -1. -1. -1.  0.  1.  2.  2.  3.  3.  3.  3.] [25. 16.  9.  4.  1.  1.  1.  0.  1.  4.  4.  9.  9.  9.  9.]\n"
          ],
          "name": "stdout"
        }
      ]
    },
    {
      "cell_type": "code",
      "metadata": {
        "id": "yuLb_VE8AgtO",
        "colab_type": "code",
        "colab": {
          "base_uri": "https://localhost:8080/",
          "height": 34
        },
        "outputId": "359c4bba-266a-47b7-f61d-88044247f6e3"
      },
      "source": [
        "# 데이터 B에 대한 편차제곱\n",
        "# [4,5,5,5,6,6,6,6,6,6,6,7,7,7,8]\n",
        "meanB = np.mean(B)\n",
        "deviB = B - meanB \n",
        "dsqrB = deviB ** 2\n",
        "print(meanB, deviB, dsqrB) "
      ],
      "execution_count": null,
      "outputs": [
        {
          "output_type": "stream",
          "text": [
            "6.0 [-2. -1. -1. -1.  0.  0.  0.  0.  0.  0.  0.  1.  1.  1.  2.] [4. 1. 1. 1. 0. 0. 0. 0. 0. 0. 0. 1. 1. 1. 4.]\n"
          ],
          "name": "stdout"
        }
      ]
    },
    {
      "cell_type": "code",
      "metadata": {
        "id": "1WfCrHP8BJGL",
        "colab_type": "code",
        "colab": {
          "base_uri": "https://localhost:8080/",
          "height": 52
        },
        "outputId": "b6c63238-270d-43db-d73f-f54189dd30ea"
      },
      "source": [
        "# 데이터 A, B에 대한 표본분산을 계산하세요\n",
        "# 분산은 numpy의 var함수를 사용함\n",
        "# 단, 표본분산을 구할려면 var함수에 ddof옵션을 추가함\n",
        "varA1 = np.mean(dsqrA)  \n",
        "varB1 = np.mean(dsqrB)\n",
        "# 모분산 : 편차제곱합을 n으로 나눔\n",
        "\n",
        "varA2 = (np.sum(dsqrA)) / (len(dsqrA)-1)\n",
        "varB2 = (np.sum(dsqrB)) / (len(dsqrB)-1)\n",
        "# 표본분산 : 편차제곱합을 n-1로 나눔\n",
        "\n",
        "print(varA1, varB1, np.var(A), np.var(B))\n",
        "print(varA2, varB2, np.var(A, ddof=1), np.var(B, ddof=1))"
      ],
      "execution_count": null,
      "outputs": [
        {
          "output_type": "stream",
          "text": [
            "6.8 0.9333333333333333 6.8 0.9333333333333333\n",
            "7.285714285714286 1.0 7.285714285714286 1.0\n"
          ],
          "name": "stdout"
        }
      ]
    },
    {
      "cell_type": "markdown",
      "metadata": {
        "id": "rK9VL_l0KQzP",
        "colab_type": "text"
      },
      "source": [
        "# 표준편차\n",
        "* 분산값에 제곱근을 취한 값\n",
        "* 분산은 편차를 제곱했기 때문에 결과값의 단위 역시 제곱이 됨\n",
        "* 분산의 단위를 원래 자료의 단위로 전환하기 위해 만든 값\n",
        "\n",
        "모표준편차 $$ \\sigma $$  \n",
        "표본표준편차 $$ s $$\n"
      ]
    },
    {
      "cell_type": "code",
      "metadata": {
        "id": "P1WvENoUK4u3",
        "colab_type": "code",
        "colab": {
          "base_uri": "https://localhost:8080/",
          "height": 52
        },
        "outputId": "fac3e521-b685-4105-88be-635643138e1c"
      },
      "source": [
        "# 데이터 A, B에 대한 모표준편차/표본표준편차를 계산하세요\n",
        "# 분산은 numpy의 std함수를 사용함\n",
        "# 단, 표본표준편차을 구할려면 var함수에 ddof옵션을 추가함\n",
        "stdA1 = np.sqrt(varA1)\n",
        "stdB1 = np.sqrt(varB1)\n",
        "\n",
        "stdA2 = np.sqrt(varA2)\n",
        "stdB2 = np.sqrt(varB2)\n",
        "\n",
        "print(stdA1.round(2), stdB1.round(2), np.std(A).round(2), np.std(B).round(2))\n",
        "print(stdA2.round(2), stdB2.round(2), np.std(A, ddof=1).round(2), np.std(B, ddof=1).round(2))"
      ],
      "execution_count": null,
      "outputs": [
        {
          "output_type": "stream",
          "text": [
            "2.61 0.97 2.61 0.97\n",
            "2.7 1.0 2.7 1.0\n"
          ],
          "name": "stdout"
        }
      ]
    },
    {
      "cell_type": "code",
      "metadata": {
        "id": "6IW85OlOOSdP",
        "colab_type": "code",
        "colab": {
          "base_uri": "https://localhost:8080/",
          "height": 52
        },
        "outputId": "5d760f2d-051f-43c1-9c2b-89f06eef483f"
      },
      "source": [
        "# 조선조 왕들의 수명은 1대~27대까지 모든 왕을 대상으로 했음\n",
        "print(np.mean(kings).round(2), \n",
        "      np.var(kings).round(2), np.std(kings).round(2))\n",
        "\n",
        "meanK = np.mean(kings)\n",
        "deviK = kings - meanK  \n",
        "dsqrK = deviK ** 2\n",
        "var = np.mean(dsqrK)\n",
        "std = np.sqrt(var)\n",
        "print(var.round(2), std.round(2))"
      ],
      "execution_count": null,
      "outputs": [
        {
          "output_type": "stream",
          "text": [
            "46.04 251.89 15.87\n",
            "251.89 15.87\n"
          ],
          "name": "stdout"
        }
      ]
    },
    {
      "cell_type": "markdown",
      "metadata": {
        "id": "TcntCMg-SmMK",
        "colab_type": "text"
      },
      "source": [
        "# 결론 : 평균 수명 : $ 46 $세, 편차는 $ \\pm 15.8세 $"
      ]
    },
    {
      "cell_type": "markdown",
      "metadata": {
        "id": "wt-c_fZtVurw",
        "colab_type": "text"
      },
      "source": [
        "# 변동계수\n",
        "* 표준편차를 평균으로 나눈 값의 백분율\n",
        "* 측정단위가 동일하지만 평균이 큰 차이를 보이는 두 자료집단 또는\n",
        "* 측정단위가 서로 다른 두 자료집단에 대한 분산 정도를 비교할때 사용  \n",
        "* 즉, 두 자료집단의 평균의 상대적인 크기의 차이를 없애줌\n",
        "* 변동계수가 크면 상대적으로 넓은 분포를 이룸\n",
        "\n",
        "* 예를 들어, A가게의 한달 평균 매출이 1억이고 표준편차가 천만원이고\n",
        "  B가게의 한달 평균 매출이 천만원이고 표준편차가 500만원일때,\n",
        "  과연, B가게가 A가게보다 못번다고 할 수 있을까?\n",
        "  => A가게의 변동계수 : 1천만/1억 = 0.1\n",
        "  => B가게의 변동계수 : 500만/1천만 = 0.5\n",
        "\n",
        "** 모집단의 변동계수 **\n",
        "$$ C.V_p $$\n",
        "\n",
        "** 표본의 변동계수 **\n",
        "$$ C.V_s $$ "
      ]
    },
    {
      "cell_type": "code",
      "metadata": {
        "id": "z2vgzq1pWhxC",
        "colab_type": "code",
        "colab": {
          "base_uri": "https://localhost:8080/",
          "height": 70
        },
        "outputId": "f5139647-337d-4cca-a2c6-3fd33dcce7ba"
      },
      "source": [
        "# 자료 C, D 에 대해 어느 표본이 평균으로부터 \n",
        "# 상대적으로 더 넓게 분포하는지 결정하시오\n",
        "# C = [171 164 167 156 159 164]\n",
        "# D = [11.5 12.2 12.0 12.4 13.6 10.5]\n",
        "# => 평균과 표준편차를 구한 후 변동계수를 구함\n",
        "\n",
        "from scipy.stats import variation\n",
        "\n",
        "C = [171, 164, 167, 156, 159, 164]\n",
        "D = [11.5, 12.2, 12.0, 12.4 ,13.6, 10.5]\n",
        "\n",
        "print(np.std(C)/np.mean(C), np.std(D)/np.mean(D))\n",
        "print(variation(C), variation(D))\n",
        "\n",
        "meanC = np.mean(C)\n",
        "stdC = np.std(C, ddof=1)\n",
        "cvC = stdC / meanC\n",
        "\n",
        "meanD = np.mean(D)\n",
        "stdD = np.std(D, ddof=1)\n",
        "cvD = stdD / meanD\n",
        "\n",
        "print(cvC.round(3), cvD.round(3))"
      ],
      "execution_count": null,
      "outputs": [
        {
          "output_type": "stream",
          "text": [
            "0.03011883119815322 0.07775993821395123\n",
            "0.03011883119815322 0.07775993821395123\n",
            "0.033 0.085\n"
          ],
          "name": "stdout"
        }
      ]
    },
    {
      "cell_type": "code",
      "metadata": {
        "id": "mXlFAZvvWlBQ",
        "colab_type": "code",
        "colab": {}
      },
      "source": [
        ""
      ],
      "execution_count": null,
      "outputs": []
    },
    {
      "cell_type": "markdown",
      "metadata": {
        "id": "aZq6FydOwkw6",
        "colab_type": "text"
      },
      "source": [
        "# 사분위수\n",
        "* 데이터를 가장 작은수부터 가장 큰수까지 정렬하였을때\n",
        "  1/4, 2/4, 3/4 위치에 있는 수를 의미\n",
        "* 이 각각의 수를 1사분위수, 2사분위수, 3사분위수라고 함\n",
        "* 2사분위수는 중앙값과 같음\n",
        "* 때로 위치를 1/100단위로 나눈 경우도 있는데, \n",
        "  이때 백분위수를 사용함\n",
        "* 한편, 사분위수를 구하는 방법은 크게 9가지가 존재하는데\n",
        "  대상 데이터의 유형에 따라 적용방법이 다름\n",
        "* numpy의 percentile함수의 interpolation 속성으로\n",
        "  계산방법을 지정할 수 있음\n",
        "  (nearst, lower, higher, linear, midpoint)  \n",
        "\n",
        "$$ Q_1, Q_2, Q_3 $$\n",
        "\n",
        "![](https://drive.google.com/uc?id=1gYoesXBJTlJc9jgzRVV4RbpWOZXzaicD)\n",
        "\n"
      ]
    },
    {
      "cell_type": "code",
      "metadata": {
        "id": "ELj3z85ryffI",
        "colab_type": "code",
        "colab": {
          "base_uri": "https://localhost:8080/",
          "height": 52
        },
        "outputId": "9d830d3e-1315-45bd-fdc6-24a0d28f8318"
      },
      "source": [
        "# 데이터 A, B의 사분위수를 구하세요\n",
        "# 백분위수는 numpy의 percentile(대상, 위치)함수 사용\n",
        "# 25분위수는 1사분위수\n",
        "# 50분위수는 2사분위수\n",
        "# 75분위수는 3사분위수\n",
        "A = [1,2,3,4,5,5,5,6,7,8,8,9,9,9,9]\n",
        "B = [4,5,5,5,6,6,6,6,6,6,6,7,7,7,8]\n",
        "\n",
        "val1stA = np.percentile(A, 25, interpolation='linear')\n",
        "val2ndA = np.percentile(A, 50, interpolation='linear')\n",
        "val3rdA = np.percentile(A, 75, interpolation='linear')\n",
        "print(val1stA, val2ndA, val3rdA)\n",
        "\n",
        "val1stB = np.percentile(B, 25, interpolation='midpoint')\n",
        "val2ndB = np.percentile(B, 50, interpolation='midpoint')\n",
        "val3rdB = np.percentile(B, 75, interpolation='midpoint')\n",
        "print(val1stB, val2ndB, val3rdB)"
      ],
      "execution_count": null,
      "outputs": [
        {
          "output_type": "stream",
          "text": [
            "4.5 6.0 8.5\n",
            "5.5 6.0 6.5\n"
          ],
          "name": "stdout"
        }
      ]
    },
    {
      "cell_type": "code",
      "metadata": {
        "id": "o0micYJPz3b-",
        "colab_type": "code",
        "colab": {
          "base_uri": "https://localhost:8080/",
          "height": 176
        },
        "outputId": "b7a9022c-79f9-4e1b-8fc5-d2e77d7c8634"
      },
      "source": [
        "# 또는 pandas의 describe() 함수를 사용할 수 있음\n",
        "numsA = pd.Series(A)\n",
        "print(numsA.describe())"
      ],
      "execution_count": null,
      "outputs": [
        {
          "output_type": "stream",
          "text": [
            "count    15.000000\n",
            "mean      6.000000\n",
            "std       2.699206\n",
            "min       1.000000\n",
            "25%       4.500000\n",
            "50%       6.000000\n",
            "75%       8.500000\n",
            "max       9.000000\n",
            "dtype: float64\n"
          ],
          "name": "stdout"
        }
      ]
    },
    {
      "cell_type": "code",
      "metadata": {
        "id": "oyNJP9Rsz3Qg",
        "colab_type": "code",
        "colab": {
          "base_uri": "https://localhost:8080/",
          "height": 176
        },
        "outputId": "e54dd194-a15b-4a05-e90d-c7d7ea48847c"
      },
      "source": [
        "numsB = pd.Series(B)\n",
        "print(numsB.describe())"
      ],
      "execution_count": null,
      "outputs": [
        {
          "output_type": "stream",
          "text": [
            "count    15.0\n",
            "mean      6.0\n",
            "std       1.0\n",
            "min       4.0\n",
            "25%       5.5\n",
            "50%       6.0\n",
            "75%       6.5\n",
            "max       8.0\n",
            "dtype: float64\n"
          ],
          "name": "stdout"
        }
      ]
    },
    {
      "cell_type": "code",
      "metadata": {
        "id": "i2Dm_60l1zQM",
        "colab_type": "code",
        "colab": {
          "base_uri": "https://localhost:8080/",
          "height": 70
        },
        "outputId": "3714fa5e-6db6-47b2-d76f-6dbee0f9a6a5"
      },
      "source": [
        "# 공식을 이용해서 사분위수를 구해봄\n",
        "# [1,2,3,4,5,5,5,6,7,8,8,9,9,9,9]\n",
        "# 1사분위수 구하기 = 25백분위수\n",
        "m = (25 * len(A)) / 100   # kn/100\n",
        "pos = int(np.ceil(m))\n",
        "print(A[ pos - 1 ], m, pos)\n",
        "\n",
        "# 2사분위수 구하기 = 50백분위수\n",
        "m = (50 * len(A)) / 100 \n",
        "pos = int(np.ceil(m))\n",
        "print(A[ pos - 1 ], m, pos)\n",
        "\n",
        "# 3사분위수 구하기 = 75백분위수\n",
        "m = (75 * len(A)) / 100  \n",
        "pos = int(np.ceil(m))\n",
        "print(A[ pos - 1 ], m, pos)"
      ],
      "execution_count": null,
      "outputs": [
        {
          "output_type": "stream",
          "text": [
            "4 3.75 4\n",
            "6 7.5 8\n",
            "9 11.25 12\n"
          ],
          "name": "stdout"
        }
      ]
    },
    {
      "cell_type": "code",
      "metadata": {
        "id": "H977e-Rp0LR7",
        "colab_type": "code",
        "colab": {
          "base_uri": "https://localhost:8080/",
          "height": 34
        },
        "outputId": "01e9a50d-41b9-4b95-848b-f1599de1acdf"
      },
      "source": [
        "# 다음 표본에 대한 사분위수를 구하세요\n",
        "# 26 31 27 38 42 26 18 17 25 29 39 38 38 40 46 38 39 41 41 40 26 19 39 28 45 34 21 41 30 30 12 22 48 34 29 26 29 58 43 16 42 44 38 44 28 43 39 42 39 46\n",
        "nums = [26,31,27,38,42,26,18,17,25,29,39,38,38,40,46,38,39,41,41,40,26,19,39,28,45,34,21,41,30,30,12,22,48,34,29,26,29,58,43,16,42,44,38,44,28,43,39,42,39,46]\n",
        "\n",
        "q1 = np.percentile(nums, 25)\n",
        "q2 = np.percentile(nums, 50)\n",
        "q3 = np.percentile(nums, 75)\n",
        "\n",
        "print(q1,q2,q3)"
      ],
      "execution_count": null,
      "outputs": [
        {
          "output_type": "stream",
          "text": [
            "27.25 38.0 41.0\n"
          ],
          "name": "stdout"
        }
      ]
    },
    {
      "cell_type": "code",
      "metadata": {
        "id": "84o8KVIo-5B9",
        "colab_type": "code",
        "colab": {
          "base_uri": "https://localhost:8080/",
          "height": 70
        },
        "outputId": "a5bbce17-2ca2-4f09-bd17-91e1e7bff186"
      },
      "source": [
        "m = (50*25) / 100 # n = 50, k = 25\n",
        "pos = int(np.ceil(m))\n",
        "print(sorted(nums)[pos-1], m, pos)\n",
        "\n",
        "m = (50*50) / 100 # n = 50, k = 50\n",
        "pos = int(np.ceil(m))\n",
        "print(sorted(nums)[pos-1], m, pos)\n",
        "\n",
        "m = (50*75) / 100 # n = 50, k = 75\n",
        "pos = int(np.ceil(m))\n",
        "print(sorted(nums)[pos-1], m, pos)"
      ],
      "execution_count": null,
      "outputs": [
        {
          "output_type": "stream",
          "text": [
            "27 12.5 13\n",
            "38 25.0 25\n",
            "41 37.5 38\n"
          ],
          "name": "stdout"
        }
      ]
    },
    {
      "cell_type": "markdown",
      "metadata": {
        "id": "96Fx6x5GApXW",
        "colab_type": "text"
      },
      "source": [
        "# 사분위수 범위\n",
        "* 수집한 자료의 1사분위수와 3사분위수인 \n",
        "   $Q_1$ 과 $Q_3$ 사이의 범위를 의미\n",
        "\n",
        "$$ I.Q.R = Q_3 - Q_1 $$"
      ]
    },
    {
      "cell_type": "code",
      "metadata": {
        "id": "v9MLAvzmBiHn",
        "colab_type": "code",
        "colab": {
          "base_uri": "https://localhost:8080/",
          "height": 34
        },
        "outputId": "fee05961-4498-48e6-e7c4-01d8e7a2e53c"
      },
      "source": [
        "# 데이터 A, B의 사분위수 범위를 구하세요\n",
        "iqrA = np.percentile(A, 75) - np.percentile(A, 25)\n",
        "iqrB = np.percentile(B, 75) - np.percentile(B, 25)\n",
        "print(iqrA, iqrB)"
      ],
      "execution_count": null,
      "outputs": [
        {
          "output_type": "stream",
          "text": [
            "4.0 1.0\n"
          ],
          "name": "stdout"
        }
      ]
    },
    {
      "cell_type": "code",
      "metadata": {
        "id": "mOUupLxCBsmV",
        "colab_type": "code",
        "colab": {
          "base_uri": "https://localhost:8080/",
          "height": 34
        },
        "outputId": "00c6c8ca-d3b7-4c2c-e7cd-7165c90852c7"
      },
      "source": [
        "# 다음 표본에 대한 사분위수 범위를 구하세요\n",
        "iqr = np.percentile(nums, 75) - np.percentile(nums, 25)\n",
        "print(iqr)"
      ],
      "execution_count": null,
      "outputs": [
        {
          "output_type": "stream",
          "text": [
            "13.75\n"
          ],
          "name": "stdout"
        }
      ]
    },
    {
      "cell_type": "markdown",
      "metadata": {
        "id": "xiCvnyeDCfyy",
        "colab_type": "text"
      },
      "source": [
        "# 상자수염그래프boxplot\n",
        "\n",
        "* 사분위수를 포함해서 수집된 자료에 포함된 특이값등을 알려주는\n",
        "시각적 도구\n",
        "* 특이값, 이상치에 재한 정보를 제공\n",
        "* 자료의 중심위치와 흩어진 모양, 분포의 꼬리부분을 쉽게 파악"
      ]
    },
    {
      "cell_type": "code",
      "metadata": {
        "id": "LEEVJU5DDzLm",
        "colab_type": "code",
        "colab": {
          "base_uri": "https://localhost:8080/",
          "height": 412
        },
        "outputId": "77465d10-8a07-485d-b108-7194ed20de78"
      },
      "source": [
        "# 다음 표본에 대한 상자수염그래프를 그려보세요\n",
        "# boxplot(대상)\n",
        "\n",
        "import matplotlib.pyplot as plt\n",
        "\n",
        "plt.boxplot(nums)"
      ],
      "execution_count": null,
      "outputs": [
        {
          "output_type": "execute_result",
          "data": {
            "text/plain": [
              "{'boxes': [<matplotlib.lines.Line2D at 0x7fbc13956b70>],\n",
              " 'caps': [<matplotlib.lines.Line2D at 0x7fbc1396b588>,\n",
              "  <matplotlib.lines.Line2D at 0x7fbc1396b908>],\n",
              " 'fliers': [<matplotlib.lines.Line2D at 0x7fbc138f5048>],\n",
              " 'means': [],\n",
              " 'medians': [<matplotlib.lines.Line2D at 0x7fbc1396bc88>],\n",
              " 'whiskers': [<matplotlib.lines.Line2D at 0x7fbc13956e80>,\n",
              "  <matplotlib.lines.Line2D at 0x7fbc1396b208>]}"
            ]
          },
          "metadata": {
            "tags": []
          },
          "execution_count": 58
        },
        {
          "output_type": "display_data",
          "data": {
            "image/png": "[encoded data removed]",
            "text/plain": [
              "<Figure size 432x288 with 1 Axes>"
            ]
          },
          "metadata": {
            "tags": [],
            "needs_background": "light"
          }
        }
      ]
    },
    {
      "cell_type": "code",
      "metadata": {
        "id": "MLOHcALhEDZ9",
        "colab_type": "code",
        "colab": {
          "base_uri": "https://localhost:8080/",
          "height": 409
        },
        "outputId": "0a80859c-d3da-4b2c-fcbb-98daa3ff71ca"
      },
      "source": [
        "plt.boxplot(nums, vert=0)"
      ],
      "execution_count": null,
      "outputs": [
        {
          "output_type": "execute_result",
          "data": {
            "text/plain": [
              "{'boxes': [<matplotlib.lines.Line2D at 0x7fbc138e4be0>],\n",
              " 'caps': [<matplotlib.lines.Line2D at 0x7fbc13425630>,\n",
              "  <matplotlib.lines.Line2D at 0x7fbc134259b0>],\n",
              " 'fliers': [<matplotlib.lines.Line2D at 0x7fbc1342f0f0>],\n",
              " 'means': [],\n",
              " 'medians': [<matplotlib.lines.Line2D at 0x7fbc13425d30>],\n",
              " 'whiskers': [<matplotlib.lines.Line2D at 0x7fbc138e4ef0>,\n",
              "  <matplotlib.lines.Line2D at 0x7fbc134252b0>]}"
            ]
          },
          "metadata": {
            "tags": []
          },
          "execution_count": 59
        },
        {
          "output_type": "display_data",
          "data": {
            "image/png": "[encoded data removed]",
            "text/plain": [
              "<Figure size 432x288 with 1 Axes>"
            ]
          },
          "metadata": {
            "tags": [],
            "needs_background": "light"
          }
        }
      ]
    },
    {
      "cell_type": "code",
      "metadata": {
        "id": "OFygvqq6EcEV",
        "colab_type": "code",
        "colab": {
          "base_uri": "https://localhost:8080/",
          "height": 339
        },
        "outputId": "b66813de-1d8d-4f3a-cc28-8dd7ea12f200"
      },
      "source": [
        "import seaborn as sns\n",
        "sns.boxplot(nums)"
      ],
      "execution_count": null,
      "outputs": [
        {
          "output_type": "stream",
          "text": [
            "/usr/local/lib/python3.6/dist-packages/statsmodels/tools/_testing.py:19: FutureWarning: pandas.util.testing is deprecated. Use the functions in the public API at pandas.testing instead.\n",
            "  import pandas.util.testing as tm\n"
          ],
          "name": "stderr"
        },
        {
          "output_type": "execute_result",
          "data": {
            "text/plain": [
              "<matplotlib.axes._subplots.AxesSubplot at 0x7fbc0918deb8>"
            ]
          },
          "metadata": {
            "tags": []
          },
          "execution_count": 60
        },
        {
          "output_type": "display_data",
          "data": {
            "image/png": "[encoded data removed]",
            "text/plain": [
              "<Figure size 432x288 with 1 Axes>"
            ]
          },
          "metadata": {
            "tags": [],
            "needs_background": "light"
          }
        }
      ]
    },
    {
      "cell_type": "code",
      "metadata": {
        "id": "1h3iThUbKJ0s",
        "colab_type": "code",
        "colab": {
          "base_uri": "https://localhost:8080/",
          "height": 463
        },
        "outputId": "f3bfdf0b-5aa7-4cf7-ec2a-927875b8d3b5"
      },
      "source": [
        "# 조선조 왕들 수명의 사분위수와 상자수염그래프를 그려보세요\n",
        "q1 = np.percentile(kings, 25)\n",
        "q2 = np.percentile(kings, 50)\n",
        "q3 = np.percentile(kings, 75)\n",
        "print(q1,q2,q3)\n",
        "\n",
        "print(pd.Series(kings).describe())\n",
        "\n",
        "sns.boxplot(kings)"
      ],
      "execution_count": null,
      "outputs": [
        {
          "output_type": "stream",
          "text": [
            "33.0 45.0 56.0\n",
            "count    27.000000\n",
            "mean     46.037037\n",
            "std      16.173296\n",
            "min      16.000000\n",
            "25%      33.000000\n",
            "50%      45.000000\n",
            "75%      56.000000\n",
            "max      82.000000\n",
            "dtype: float64\n"
          ],
          "name": "stdout"
        },
        {
          "output_type": "execute_result",
          "data": {
            "text/plain": [
              "<matplotlib.axes._subplots.AxesSubplot at 0x7fbc089f7d30>"
            ]
          },
          "metadata": {
            "tags": []
          },
          "execution_count": 67
        },
        {
          "output_type": "display_data",
          "data": {
            "image/png": "[encoded data removed]",
            "text/plain": [
              "<Figure size 432x288 with 1 Axes>"
            ]
          },
          "metadata": {
            "tags": [],
            "needs_background": "light"
          }
        }
      ]
    },
    {
      "cell_type": "markdown",
      "metadata": {
        "id": "PTr7dgnQ0o1V",
        "colab_type": "text"
      },
      "source": [
        "# 도수분포표\n",
        "* 단순한 숫자의 나열인 데이터 자체로는 어떠한 정보도 알 수 없음\n",
        "* \n",
        "* ex) 80명의 학생의 키를 정리한 데이터에서 무엇을 알수 있을까\n",
        "    + 각 학생들의 키는 모두 같지않고 제각각의 숫자로 나타남\n",
        "    + 다양한 수치로 나타나는 것을 '분포한다'라고 함  \n",
        "    + 분포가 생기는 이유는 어떤 불확실성(!)이 있기 때문\n",
        "    + 이러한 불확실성이 제각각인 키의 수치를 발생시킨다고 여김\n",
        "  + 하지만, 이러한 수치들에도 고유한 특징이나 반복되는 것이 존재 \n",
        "  + 분포의 특성을 도출하기 위해 통계라는 도구 사용\n",
        "\n",
        "* 분포화된 자료를 시각화하려면 히스토그램을 그려야 하는데\n",
        "* 먼저, 도수분포표를 작성해야 함\n",
        "    + 최대/최소값 \n",
        "    + 계급class 설정\n",
        "    + 계급값 설정\n",
        "    + 계급내 데이터수 파악 - 빈도/도수frequency\n",
        "    + 각 계급 빈도의 상대비율 - 상대도수\n",
        "    + 각 계급의 누적합 - 누적도수\n",
        "  \n",
        "* 히스토그램을 통해 데이터의 분포(어떻게 모여 있는지) 파악 가능"
      ]
    },
    {
      "cell_type": "code",
      "metadata": {
        "id": "Qrwa2tuX3xok",
        "colab_type": "code",
        "colab": {
          "base_uri": "https://localhost:8080/",
          "height": 72
        },
        "outputId": "0edf5078-9372-4176-9481-7d37de80aaeb"
      },
      "source": [
        "import numpy as np\n",
        "import pandas as pd\n",
        "import seaborn as sns\n",
        "import matplotlib.pyplot as plt"
      ],
      "execution_count": null,
      "outputs": [
        {
          "output_type": "stream",
          "text": [
            "/usr/local/lib/python3.6/dist-packages/statsmodels/tools/_testing.py:19: FutureWarning: pandas.util.testing is deprecated. Use the functions in the public API at pandas.testing instead.\n",
            "  import pandas.util.testing as tm\n"
          ],
          "name": "stderr"
        }
      ]
    },
    {
      "cell_type": "code",
      "metadata": {
        "id": "9U7DV97U4Fpd",
        "colab_type": "code",
        "colab": {
          "base_uri": "https://localhost:8080/",
          "height": 230
        },
        "outputId": "c7a9355e-faf5-4634-a242-6df1f46a1ed1"
      },
      "source": [
        "# 80명 학생 키 데이터 불러오기\n",
        "heights = pd.read_csv('height.csv')\n",
        "heights['height(cm)']"
      ],
      "execution_count": null,
      "outputs": [
        {
          "output_type": "execute_result",
          "data": {
            "text/plain": [
              "0     151\n",
              "1     154\n",
              "2     160\n",
              "3     160\n",
              "4     163\n",
              "     ... \n",
              "75    156\n",
              "76    159\n",
              "77    156\n",
              "78    156\n",
              "79    161\n",
              "Name: height(cm), Length: 80, dtype: int64"
            ]
          },
          "metadata": {
            "tags": []
          },
          "execution_count": 13
        }
      ]
    },
    {
      "cell_type": "code",
      "metadata": {
        "id": "lHk9PJDg6rbb",
        "colab_type": "code",
        "colab": {
          "base_uri": "https://localhost:8080/",
          "height": 34
        },
        "outputId": "1da5fe90-f9ea-4ed6-c4bf-30c5f1d771de"
      },
      "source": [
        "# 구간 파악\n",
        "max = np.max(heights['height(cm)'])\n",
        "min = np.min(heights['height(cm)'])\n",
        "# print(max)  # 169 => 170\n",
        "# print(min)  # 143 => 140\n",
        "max = int(max / 10) * 10 + 10\n",
        "min = int(min / 10) * 10\n",
        "\n",
        "bins = np.arange(min, max+1, 5)\n",
        "print(bins)"
      ],
      "execution_count": null,
      "outputs": [
        {
          "output_type": "stream",
          "text": [
            "[140 145 150 155 160 165 170]\n"
          ],
          "name": "stdout"
        }
      ]
    },
    {
      "cell_type": "code",
      "metadata": {
        "id": "Skwy-Tl28clz",
        "colab_type": "code",
        "colab": {
          "base_uri": "https://localhost:8080/",
          "height": 70
        },
        "outputId": "ced6e886-73a5-4419-ed1c-231079190829"
      },
      "source": [
        "# 구간 별도 \n",
        "hist, bins = np.histogram(heights['height(cm)'], bins)\n",
        "print(hist)\n",
        "print(bins)\n",
        "\n",
        "mid = (bins[1]-bins[0])/2\n",
        "print(bins + mid)"
      ],
      "execution_count": null,
      "outputs": [
        {
          "output_type": "stream",
          "text": [
            "[ 1  4 17 27 23  8]\n",
            "[140 145 150 155 160 165 170]\n",
            "[142.5 147.5 152.5 157.5 162.5 167.5 172.5]\n"
          ],
          "name": "stdout"
        }
      ]
    },
    {
      "cell_type": "code",
      "metadata": {
        "id": "cPw7rWROC2Dy",
        "colab_type": "code",
        "colab": {
          "base_uri": "https://localhost:8080/",
          "height": 34
        },
        "outputId": "5cda0b6a-0493-4718-8b1c-4996e5a35412"
      },
      "source": [
        "# 계급값 - 각 계급을 대표하는 값, 계급의 중앙값\n",
        "# [140 145 150 155 160 165]\n",
        "mid = (bins[1] - bins[0]) / 2\n",
        "mdbins = bins + mid\n",
        "print(mdbins)"
      ],
      "execution_count": null,
      "outputs": [
        {
          "output_type": "stream",
          "text": [
            "[142.5 147.5 152.5 157.5 162.5 167.5 172.5]\n"
          ],
          "name": "stdout"
        }
      ]
    },
    {
      "cell_type": "code",
      "metadata": {
        "id": "S-HDEscX9lVw",
        "colab_type": "code",
        "colab": {
          "base_uri": "https://localhost:8080/",
          "height": 52
        },
        "outputId": "260fb6a2-1a12-48ff-928e-666b41fd21d0"
      },
      "source": [
        "# 상대대수 \n",
        "# 구간별 빈도수를 전체빈도수의 총합으로 나눈 값\n",
        "total = len(heights['height(cm)'])\n",
        "relfrq = hist / total\n",
        "print(relfrq)\n",
        "print(sum(relfrq)) # 상대도수의 총합은 1"
      ],
      "execution_count": null,
      "outputs": [
        {
          "output_type": "stream",
          "text": [
            "[0.0125 0.05   0.2125 0.3375 0.2875 0.1   ]\n",
            "1.0\n"
          ],
          "name": "stdout"
        }
      ]
    },
    {
      "cell_type": "code",
      "metadata": {
        "id": "rbSDSGHIEOrM",
        "colab_type": "code",
        "colab": {
          "base_uri": "https://localhost:8080/",
          "height": 34
        },
        "outputId": "cb8f89e4-aa8d-46cf-b45d-ac00c966f2c3"
      },
      "source": [
        "# 누적도수/누적빈도\n",
        "# 각 구간별 도수의 누적합\n",
        "# [1,2,3,4,5] => [1,3,6,10,15]\n",
        "# [ 1  4 17 27 23  8]\n",
        "csfrq = np.cumsum(hist)\n",
        "print(csfrq)"
      ],
      "execution_count": null,
      "outputs": [
        {
          "output_type": "stream",
          "text": [
            "[ 1  5 22 49 72 80]\n"
          ],
          "name": "stdout"
        }
      ]
    },
    {
      "cell_type": "code",
      "metadata": {
        "id": "ocCY2aMCXoBV",
        "colab_type": "code",
        "colab": {
          "base_uri": "https://localhost:8080/",
          "height": 52
        },
        "outputId": "c2cc20fb-6020-4a8e-be3e-7c803d4524e6"
      },
      "source": [
        "# 도수분포표의 평균\n",
        "# 각 빈도값와 계급값의 곱의 총합을 전체도수로 나눈 값\n",
        "avghist = hist * mdbins[:-1]\n",
        "avghist = (sum(avghist) / len(heights['height(cm)'])).round(2)\n",
        "print(avghist)\n",
        "\n",
        "avg = np.mean(heights['height(cm)']) # 전체 키에 대한 평균\n",
        "avg"
      ],
      "execution_count": null,
      "outputs": [
        {
          "output_type": "stream",
          "text": [
            "158.19\n"
          ],
          "name": "stdout"
        },
        {
          "output_type": "execute_result",
          "data": {
            "text/plain": [
              "157.575"
            ]
          },
          "metadata": {
            "tags": []
          },
          "execution_count": 117
        }
      ]
    },
    {
      "cell_type": "code",
      "metadata": {
        "id": "XNnunPfMEwzZ",
        "colab_type": "code",
        "colab": {
          "base_uri": "https://localhost:8080/",
          "height": 264
        },
        "outputId": "585c9338-6cd6-4980-fa56-a7c1ef24cdc4"
      },
      "source": [
        "# 히스토그램 시각화\n",
        "plt.hist(heights['height(cm)'], bins, color='red')\n",
        "plt.grid()"
      ],
      "execution_count": null,
      "outputs": [
        {
          "output_type": "display_data",
          "data": {
            "image/png": "[encoded data removed]",
            "text/plain": [
              "<Figure size 432x288 with 1 Axes>"
            ]
          },
          "metadata": {
            "tags": [],
            "needs_background": "light"
          }
        }
      ]
    },
    {
      "cell_type": "code",
      "metadata": {
        "id": "wfHy-NRTV3Vi",
        "colab_type": "code",
        "colab": {
          "base_uri": "https://localhost:8080/",
          "height": 264
        },
        "outputId": "a6247f11-5802-41fe-8cd3-6ecdb041395d"
      },
      "source": [
        "# 히스토그램 시각화 2\n",
        "plt.plot(mdbins[:-1], hist, color='blue')\n",
        "plt.grid()"
      ],
      "execution_count": null,
      "outputs": [
        {
          "output_type": "display_data",
          "data": {
            "image/png": "[encoded data removed]",
            "text/plain": [
              "<Figure size 432x288 with 1 Axes>"
            ]
          },
          "metadata": {
            "tags": [],
            "needs_background": "light"
          }
        }
      ]
    },
    {
      "cell_type": "code",
      "metadata": {
        "id": "12lmPMQ4FqMc",
        "colab_type": "code",
        "colab": {
          "base_uri": "https://localhost:8080/",
          "height": 264
        },
        "outputId": "ed7c17cd-f7da-4dc0-cdb0-0c89d2584b8a"
      },
      "source": [
        "# 누적도수/누적빈도 시각화\n",
        "plt.scatter(mdbins[:-1], csfrq, color='navy')\n",
        "plt.grid()"
      ],
      "execution_count": null,
      "outputs": [
        {
          "output_type": "display_data",
          "data": {
            "image/png": "[encoded data removed]",
            "text/plain": [
              "<Figure size 432x288 with 1 Axes>"
            ]
          },
          "metadata": {
            "tags": [],
            "needs_background": "light"
          }
        }
      ]
    },
    {
      "cell_type": "code",
      "metadata": {
        "id": "b3HtrfgvH9-e",
        "colab_type": "code",
        "colab": {
          "base_uri": "https://localhost:8080/",
          "height": 275
        },
        "outputId": "7c8eaba1-1c23-4fbb-9806-86496163fd43"
      },
      "source": [
        "# 빈도, 상대도수, 누적도수 모두 보기\n",
        "frqclass = [f'{i} ~ {i+5}' \n",
        "                for i in range(min, max, 5)]\n",
        "print(frqclass)\n",
        "\n",
        "hthist = pd.DataFrame({'frq': hist}, index =pd.Index(frqclass, name='class'))\n",
        "hthist['midbin'] = mdbins[:-1]\n",
        "hthist['relfrq'] = relfrq\n",
        "hthist['csfrq'] = csfrq\n",
        "hthist"
      ],
      "execution_count": null,
      "outputs": [
        {
          "output_type": "stream",
          "text": [
            "['140 ~ 145', '145 ~ 150', '150 ~ 155', '155 ~ 160', '160 ~ 165', '165 ~ 170']\n"
          ],
          "name": "stdout"
        },
        {
          "output_type": "execute_result",
          "data": {
            "text/html": [
              "<div>\n",
              "<style scoped>\n",
              "    .dataframe tbody tr th:only-of-type {\n",
              "        vertical-align: middle;\n",
              "    }\n",
              "\n",
              "    .dataframe tbody tr th {\n",
              "        vertical-align: top;\n",
              "    }\n",
              "\n",
              "    .dataframe thead th {\n",
              "        text-align: right;\n",
              "    }\n",
              "</style>\n",
              "<table border=\"1\" class=\"dataframe\">\n",
              "  <thead>\n",
              "    <tr style=\"text-align: right;\">\n",
              "      <th></th>\n",
              "      <th>frq</th>\n",
              "      <th>midbin</th>\n",
              "      <th>relfrq</th>\n",
              "      <th>csfrq</th>\n",
              "    </tr>\n",
              "    <tr>\n",
              "      <th>class</th>\n",
              "      <th></th>\n",
              "      <th></th>\n",
              "      <th></th>\n",
              "      <th></th>\n",
              "    </tr>\n",
              "  </thead>\n",
              "  <tbody>\n",
              "    <tr>\n",
              "      <th>140 ~ 145</th>\n",
              "      <td>1</td>\n",
              "      <td>142.5</td>\n",
              "      <td>0.0125</td>\n",
              "      <td>1</td>\n",
              "    </tr>\n",
              "    <tr>\n",
              "      <th>145 ~ 150</th>\n",
              "      <td>4</td>\n",
              "      <td>147.5</td>\n",
              "      <td>0.0500</td>\n",
              "      <td>5</td>\n",
              "    </tr>\n",
              "    <tr>\n",
              "      <th>150 ~ 155</th>\n",
              "      <td>17</td>\n",
              "      <td>152.5</td>\n",
              "      <td>0.2125</td>\n",
              "      <td>22</td>\n",
              "    </tr>\n",
              "    <tr>\n",
              "      <th>155 ~ 160</th>\n",
              "      <td>27</td>\n",
              "      <td>157.5</td>\n",
              "      <td>0.3375</td>\n",
              "      <td>49</td>\n",
              "    </tr>\n",
              "    <tr>\n",
              "      <th>160 ~ 165</th>\n",
              "      <td>23</td>\n",
              "      <td>162.5</td>\n",
              "      <td>0.2875</td>\n",
              "      <td>72</td>\n",
              "    </tr>\n",
              "    <tr>\n",
              "      <th>165 ~ 170</th>\n",
              "      <td>8</td>\n",
              "      <td>167.5</td>\n",
              "      <td>0.1000</td>\n",
              "      <td>80</td>\n",
              "    </tr>\n",
              "  </tbody>\n",
              "</table>\n",
              "</div>"
            ],
            "text/plain": [
              "           frq  midbin  relfrq  csfrq\n",
              "class                                \n",
              "140 ~ 145    1   142.5  0.0125      1\n",
              "145 ~ 150    4   147.5  0.0500      5\n",
              "150 ~ 155   17   152.5  0.2125     22\n",
              "155 ~ 160   27   157.5  0.3375     49\n",
              "160 ~ 165   23   162.5  0.2875     72\n",
              "165 ~ 170    8   167.5  0.1000     80"
            ]
          },
          "metadata": {
            "tags": []
          },
          "execution_count": 74
        }
      ]
    },
    {
      "cell_type": "code",
      "metadata": {
        "id": "gQyZyPlwarQJ",
        "colab_type": "code",
        "colab": {
          "base_uri": "https://localhost:8080/",
          "height": 296
        },
        "outputId": "1e10a542-0416-4a60-9856-a68a458bd99e"
      },
      "source": [
        "sns.distplot(heights['height(cm)'], rug=True)"
      ],
      "execution_count": null,
      "outputs": [
        {
          "output_type": "execute_result",
          "data": {
            "text/plain": [
              "<matplotlib.axes._subplots.AxesSubplot at 0x7f908cb6e208>"
            ]
          },
          "metadata": {
            "tags": []
          },
          "execution_count": 120
        },
        {
          "output_type": "display_data",
          "data": {
            "image/png": "[encoded data removed]",
            "text/plain": [
              "<Figure size 432x288 with 1 Axes>"
            ]
          },
          "metadata": {
            "tags": [],
            "needs_background": "light"
          }
        }
      ]
    },
    {
      "cell_type": "code",
      "metadata": {
        "id": "__1xtQ27N7u0",
        "colab_type": "code",
        "colab": {}
      },
      "source": [
        "# 청소년 핸드폰 사용시간에 대한 도수분포표를 작성하세요\n",
        "phone = [10,37,22,32,18,15,15,18,22,15,20,25,38,28,\n",
        "         25,30,20,22,18,22,22,12,22,26,22,32,22,23,\n",
        "         20,23,23,20,25,51,20,25,26,22,26,28,28,20,\n",
        "         23,30,12,22,35,11,20,25]"
      ],
      "execution_count": null,
      "outputs": []
    },
    {
      "cell_type": "code",
      "metadata": {
        "id": "ATDYKO5-Suy7",
        "colab_type": "code",
        "colab": {
          "base_uri": "https://localhost:8080/",
          "height": 34
        },
        "outputId": "286eab63-e44f-427c-c94d-d4cbf8aa4306"
      },
      "source": [
        "# 구간 파악\n",
        "min = 9.5\n",
        "max = 54.5\n",
        "\n",
        "bins = np.arange(min, max+1, 9)\n",
        "bins"
      ],
      "execution_count": null,
      "outputs": [
        {
          "output_type": "execute_result",
          "data": {
            "text/plain": [
              "array([ 9.5, 18.5, 27.5, 36.5, 45.5, 54.5])"
            ]
          },
          "metadata": {
            "tags": []
          },
          "execution_count": 77
        }
      ]
    },
    {
      "cell_type": "code",
      "metadata": {
        "id": "TBHKGwRPTAXC",
        "colab_type": "code",
        "colab": {
          "base_uri": "https://localhost:8080/",
          "height": 34
        },
        "outputId": "dbb92812-f873-4251-f4f2-b62f5efc43e2"
      },
      "source": [
        "# 구간 빈도\n",
        "hist, bins = np.histogram(phone, bins)\n",
        "hist"
      ],
      "execution_count": null,
      "outputs": [
        {
          "output_type": "execute_result",
          "data": {
            "text/plain": [
              "array([10, 29,  8,  2,  1])"
            ]
          },
          "metadata": {
            "tags": []
          },
          "execution_count": 81
        }
      ]
    },
    {
      "cell_type": "code",
      "metadata": {
        "id": "Z4i9I27STShI",
        "colab_type": "code",
        "colab": {
          "base_uri": "https://localhost:8080/",
          "height": 34
        },
        "outputId": "7c4fd177-12f2-4e7c-f634-562c9ae59155"
      },
      "source": [
        "# 계급값\n",
        "# [9.5, 18.5, 27.5, 36.5, 45.5, 54.5]\n",
        "mid = (bins[1] - bins[0]) / 2\n",
        "mdbins = bins + mid\n",
        "mdbins[:-1]"
      ],
      "execution_count": null,
      "outputs": [
        {
          "output_type": "execute_result",
          "data": {
            "text/plain": [
              "array([14., 23., 32., 41., 50.])"
            ]
          },
          "metadata": {
            "tags": []
          },
          "execution_count": 86
        }
      ]
    },
    {
      "cell_type": "code",
      "metadata": {
        "id": "gEbvOvioTqOj",
        "colab_type": "code",
        "colab": {
          "base_uri": "https://localhost:8080/",
          "height": 52
        },
        "outputId": "44f37622-2144-4ab1-bf0d-303304d9b76b"
      },
      "source": [
        "# 상대도수/상대빈도 \n",
        "total = len(phone)\n",
        "relfrq = hist / total\n",
        "print(relfrq)\n",
        "print(sum(relfrq))"
      ],
      "execution_count": null,
      "outputs": [
        {
          "output_type": "stream",
          "text": [
            "[0.2  0.58 0.16 0.04 0.02]\n",
            "1.0\n"
          ],
          "name": "stdout"
        }
      ]
    },
    {
      "cell_type": "code",
      "metadata": {
        "id": "faFMgSp0T1P2",
        "colab_type": "code",
        "colab": {
          "base_uri": "https://localhost:8080/",
          "height": 34
        },
        "outputId": "88a602cf-8592-4170-fb52-2b3f48e01848"
      },
      "source": [
        "# 누적도수/누적빈도\n",
        "csfrq = np.cumsum(hist)\n",
        "csfrq"
      ],
      "execution_count": null,
      "outputs": [
        {
          "output_type": "execute_result",
          "data": {
            "text/plain": [
              "array([10, 39, 47, 49, 50])"
            ]
          },
          "metadata": {
            "tags": []
          },
          "execution_count": 87
        }
      ]
    },
    {
      "cell_type": "code",
      "metadata": {
        "id": "bmv2k14DUBwa",
        "colab_type": "code",
        "colab": {
          "base_uri": "https://localhost:8080/",
          "height": 265
        },
        "outputId": "895653a4-9b9d-440f-def6-d10e66756412"
      },
      "source": [
        "# 히스토그램 시각화\n",
        "plt.hist(phone, bins, color='pink')\n",
        "plt.grid()"
      ],
      "execution_count": null,
      "outputs": [
        {
          "output_type": "display_data",
          "data": {
            "image/png": "[encoded data removed]",
            "text/plain": [
              "<Figure size 432x288 with 1 Axes>"
            ]
          },
          "metadata": {
            "tags": [],
            "needs_background": "light"
          }
        }
      ]
    },
    {
      "cell_type": "code",
      "metadata": {
        "id": "xqxk8MnwWq4u",
        "colab_type": "code",
        "colab": {}
      },
      "source": [
        "# 히스토그램 시각화 2\n",
        "plt.plot(mdbins[:-1], hist, color='blue')\n",
        "plt.grid()"
      ],
      "execution_count": null,
      "outputs": []
    },
    {
      "cell_type": "code",
      "metadata": {
        "id": "nP1DV5ueUQCC",
        "colab_type": "code",
        "colab": {
          "base_uri": "https://localhost:8080/",
          "height": 264
        },
        "outputId": "f3a963b5-bba6-4b9d-d818-6a8ce52a7bcf"
      },
      "source": [
        "# 누적도수/누적빈도 시각화\n",
        "plt.scatter(mdbins[:-1], csfrq, color='navy')\n",
        "plt.grid()"
      ],
      "execution_count": null,
      "outputs": [
        {
          "output_type": "display_data",
          "data": {
            "image/png": "[encoded data removed]",
            "text/plain": [
              "<Figure size 432x288 with 1 Axes>"
            ]
          },
          "metadata": {
            "tags": [],
            "needs_background": "light"
          }
        }
      ]
    },
    {
      "cell_type": "code",
      "metadata": {
        "id": "kRmgGYLOUi25",
        "colab_type": "code",
        "colab": {
          "base_uri": "https://localhost:8080/",
          "height": 227
        },
        "outputId": "ff360912-023e-4928-f7e6-63663b928425"
      },
      "source": [
        "# 빈도, 상대도수, 누적도수 모두 보기\n",
        "frqclass = [f'{i}~{i+9}' for i in bins[:-1]]\n",
        "\n",
        "hthist = pd.DataFrame({'frq': hist},\n",
        "\tindex = pd.Index(frqclass, name='class'));\n",
        "hthist['midbin'] = mdbins[:-1]\n",
        "hthist['relfrq'] = relfrq\n",
        "hthist['csfrq'] = csfrq\n",
        "\n",
        "hthist"
      ],
      "execution_count": null,
      "outputs": [
        {
          "output_type": "execute_result",
          "data": {
            "text/html": [
              "<div>\n",
              "<style scoped>\n",
              "    .dataframe tbody tr th:only-of-type {\n",
              "        vertical-align: middle;\n",
              "    }\n",
              "\n",
              "    .dataframe tbody tr th {\n",
              "        vertical-align: top;\n",
              "    }\n",
              "\n",
              "    .dataframe thead th {\n",
              "        text-align: right;\n",
              "    }\n",
              "</style>\n",
              "<table border=\"1\" class=\"dataframe\">\n",
              "  <thead>\n",
              "    <tr style=\"text-align: right;\">\n",
              "      <th></th>\n",
              "      <th>frq</th>\n",
              "      <th>midbin</th>\n",
              "      <th>relfrq</th>\n",
              "      <th>csfrq</th>\n",
              "    </tr>\n",
              "    <tr>\n",
              "      <th>class</th>\n",
              "      <th></th>\n",
              "      <th></th>\n",
              "      <th></th>\n",
              "      <th></th>\n",
              "    </tr>\n",
              "  </thead>\n",
              "  <tbody>\n",
              "    <tr>\n",
              "      <th>9.5~18.5</th>\n",
              "      <td>10</td>\n",
              "      <td>14.0</td>\n",
              "      <td>0.20</td>\n",
              "      <td>10</td>\n",
              "    </tr>\n",
              "    <tr>\n",
              "      <th>18.5~27.5</th>\n",
              "      <td>29</td>\n",
              "      <td>23.0</td>\n",
              "      <td>0.58</td>\n",
              "      <td>39</td>\n",
              "    </tr>\n",
              "    <tr>\n",
              "      <th>27.5~36.5</th>\n",
              "      <td>8</td>\n",
              "      <td>32.0</td>\n",
              "      <td>0.16</td>\n",
              "      <td>47</td>\n",
              "    </tr>\n",
              "    <tr>\n",
              "      <th>36.5~45.5</th>\n",
              "      <td>2</td>\n",
              "      <td>41.0</td>\n",
              "      <td>0.04</td>\n",
              "      <td>49</td>\n",
              "    </tr>\n",
              "    <tr>\n",
              "      <th>45.5~54.5</th>\n",
              "      <td>1</td>\n",
              "      <td>50.0</td>\n",
              "      <td>0.02</td>\n",
              "      <td>50</td>\n",
              "    </tr>\n",
              "  </tbody>\n",
              "</table>\n",
              "</div>"
            ],
            "text/plain": [
              "           frq  midbin  relfrq  csfrq\n",
              "class                                \n",
              "9.5~18.5    10    14.0    0.20     10\n",
              "18.5~27.5   29    23.0    0.58     39\n",
              "27.5~36.5    8    32.0    0.16     47\n",
              "36.5~45.5    2    41.0    0.04     49\n",
              "45.5~54.5    1    50.0    0.02     50"
            ]
          },
          "metadata": {
            "tags": []
          },
          "execution_count": 95
        }
      ]
    },
    {
      "cell_type": "markdown",
      "metadata": {
        "id": "B3VIgksacfI4",
        "colab_type": "text"
      },
      "source": [
        "# 확률밀도 추정KDE\n",
        "* kernal density estimation\n",
        "* 관측된 데이터들의 분포로부터 원래 변수의 확률분포특성을 추정\n",
        "* 즉, 해당 변수에서 관측된 몇가지 데이터로부터 변수가 가질수 있는\n",
        "  모든 값들에 대한 밀도(확률)를 추정하는 것\n",
        "  + 예) 수능을 위해 모의고사를 실시함\n",
        "  + 모의고사를 통해 실제 수능시험 성적을 예측할 수 있음\n",
        "  + 몇 회의 모의고사 성적에 대한 분포를 토대로\n",
        "  + 실제로 받을 수능시험 성적에 대한 확률을 유추해 볼수 있음"
      ]
    },
    {
      "cell_type": "code",
      "metadata": {
        "id": "GrwUSqZmcgiy",
        "colab_type": "code",
        "colab": {
          "base_uri": "https://localhost:8080/",
          "height": 296
        },
        "outputId": "4a681f9b-4f01-45a0-ffea-06edc1d2a911"
      },
      "source": [
        "import seaborn as sns\n",
        "\n",
        "sns.distplot(heights['height(cm)'])"
      ],
      "execution_count": null,
      "outputs": [
        {
          "output_type": "execute_result",
          "data": {
            "text/plain": [
              "<matplotlib.axes._subplots.AxesSubplot at 0x7f908cb43668>"
            ]
          },
          "metadata": {
            "tags": []
          },
          "execution_count": 122
        },
        {
          "output_type": "display_data",
          "data": {
            "image/png": "[encoded data removed]",
            "text/plain": [
              "<Figure size 432x288 with 1 Axes>"
            ]
          },
          "metadata": {
            "tags": [],
            "needs_background": "light"
          }
        }
      ]
    },
    {
      "cell_type": "code",
      "metadata": {
        "id": "7tkQrcmWcvAT",
        "colab_type": "code",
        "colab": {
          "base_uri": "https://localhost:8080/",
          "height": 282
        },
        "outputId": "2f2d04e3-66fb-4e54-8650-e5f01ea1f73f"
      },
      "source": [
        "sns.distplot(phone)"
      ],
      "execution_count": null,
      "outputs": [
        {
          "output_type": "execute_result",
          "data": {
            "text/plain": [
              "<matplotlib.axes._subplots.AxesSubplot at 0x7f908a2be940>"
            ]
          },
          "metadata": {
            "tags": []
          },
          "execution_count": 123
        },
        {
          "output_type": "display_data",
          "data": {
            "image/png": "[encoded data removed]",
            "text/plain": [
              "<Figure size 432x288 with 1 Axes>"
            ]
          },
          "metadata": {
            "tags": [],
            "needs_background": "light"
          }
        }
      ]
    }
  ]
}