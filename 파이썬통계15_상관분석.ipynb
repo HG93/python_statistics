{
  "nbformat": 4,
  "nbformat_minor": 0,
  "metadata": {
    "colab": {
      "name": "파이썬통계15-상관분석.ipynb",
      "provenance": [],
      "collapsed_sections": []
    },
    "kernelspec": {
      "name": "python3",
      "display_name": "Python 3"
    }
  },
  "cells": [
    {
      "cell_type": "code",
      "metadata": {
        "id": "HlawOix7o_T1",
        "colab_type": "code",
        "colab": {
          "base_uri": "https://localhost:8080/",
          "height": 54
        },
        "outputId": "feddf9fc-8072-4764-9b89-ad8a32aa40a2"
      },
      "source": [
        "import numpy as np\n",
        "import pandas as pd\n",
        "from scipy import stats\n",
        "import seaborn as sns\n",
        "import matplotlib.pyplot as plt"
      ],
      "execution_count": null,
      "outputs": [
        {
          "output_type": "stream",
          "text": [
            "/usr/local/lib/python3.6/dist-packages/statsmodels/tools/_testing.py:19: FutureWarning: pandas.util.testing is deprecated. Use the functions in the public API at pandas.testing instead.\n",
            "  import pandas.util.testing as tm\n"
          ],
          "name": "stderr"
        }
      ]
    },
    {
      "cell_type": "markdown",
      "metadata": {
        "id": "zEaTYtoaqoGC",
        "colab_type": "text"
      },
      "source": [
        "# 상관분석\n",
        "\n",
        "* 두 변수 x, y가 있을때 두 변수가 서로 어떤 관계에 있는지 분석하는 과정\n",
        "* 보통 2개의 등간/비율 척도 변수를 분석할때 우선적으로 산점도를 그려 변수간의 관계를 시각화 한 후 상관계수를 계산\n",
        "\n",
        "  + ex) 키x가 클수록 몸무게y도 증가하는가?\n",
        "  + 교육을 많이 받으면 수입도 증가하는가?\n",
        "  + 광고를 많이 하면 판매량이 증가하는가?\n",
        "  + 운동을 많이 하면 몸무게는 감소하는가?\n",
        "  + 담배를 줄이면 심혈관 질병 발생비율은 낮아지는가?\n",
        "\n",
        "* 두 변수 정의 : 독립변수, 종속변수  \n",
        "  + 독립변수 : 종속변수를 추정하거나 예측하는데   토대를 제공 (원인/설명 변수)\n",
        "  + 종속변수 : 예측되거나 추정되는 변수\n",
        "    * 독립변수의 특정값에 대한 결과를 의미    (결과/반응 변수)\n",
        "\n",
        "* 독립변수와 종속변수는 인과관계를 가질 가능성이 높음 (원인-결과 관계)\n",
        "  + => 즉, 변수 X가 다른 변수 Y에 영향을\n",
        "주는 관계를 의미\n",
        "\n",
        "\n",
        "\n"
      ]
    },
    {
      "cell_type": "code",
      "metadata": {
        "id": "AdUykjr8vQVx",
        "colab_type": "code",
        "colab": {
          "base_uri": "https://localhost:8080/",
          "height": 265
        },
        "outputId": "0e43dc8d-a7ed-4601-e5b6-517c0fb4bcd8"
      },
      "source": [
        "# A회사의 광고비 지출이 매출에 어느정도 영향을 주는지 파악하기 위해 광고비와 매출액간의 관계를 조사해 봄\n",
        "# 광고비와 매출액간의 연관성 파악을 위해 산포도로 시각화해 보세요\n",
        "ad = [13,8,10,15,12,15,14,15,17,19,20,21,22,21,25]\n",
        "sales = [94,70,90,100,95,100,85,95,105,105,110,105,104,105,121]\n",
        "\n",
        "sns.scatterplot(ad, sales)\n",
        "plt.grid()"
      ],
      "execution_count": null,
      "outputs": [
        {
          "output_type": "display_data",
          "data": {
            "image/png": "[encoded data removed]",
            "text/plain": [
              "<Figure size 432x288 with 1 Axes>"
            ]
          },
          "metadata": {
            "tags": [],
            "needs_background": "light"
          }
        }
      ]
    },
    {
      "cell_type": "markdown",
      "metadata": {
        "id": "VS9Pis2HxdZ5",
        "colab_type": "text"
      },
      "source": [
        "# 상관관계correlation\n",
        "* 두 변수 사이에 서로 주고 받는 관계가 있음\n",
        "  + => 선형관계 여부와 연관성이 존재\n",
        "\n",
        "* 양/음의 상관관계, 무 상관관계등 3가지 존재\n",
        "  + => 각 변수의 관계를 기울기에 따라 양/음의 상관계수로 분류함\n",
        "\n",
        "* 상관관계를 나타내는 정도를 상관계수라 하는데\n",
        "* 한편, 강력하게 관계가 나타나기도 하지만 아리까리하게 있는듯 없는 듯한 관계도 있을수 있음\n",
        "\n",
        "* 이러한 차이를 명확하게 하기 위해 상관계수를 사용\n",
        "  + 피어슨 상관계수"
      ]
    },
    {
      "cell_type": "markdown",
      "metadata": {
        "id": "XlA9nobPx2o3",
        "colab_type": "text"
      },
      "source": [
        "# 공분산covariance\n",
        "* 두 변수가 각 평균으로부터 떨어져 있는 정도를\n",
        "구한 후 표본의 갯수로 나누어 계산한 것\n",
        "\n",
        "* 공분산에서는 x와 y의 편차들을 서로 곱해주는데, 그 이유는 두 변수간의 관계가 편차들의 곱에 반영이 되기 때문.\n",
        "* 하나의 x값이 평균보다 클 때 y도 평균보다 크면 두 편차의 곱은 양수.\n",
        "* 반면 한 x값이 평균보다 클 때 y는 평균보다 작으면 편차의 곱으은 음수가 되는 점을 이용한 것.\n",
        "* 곱한 값들을 모두 더해 양의 관계가 우세한지 음의 관계가 우세한지 측정.\n",
        "\n",
        "* 결과가 양수 또는 음수로 나올수 있음\n",
        "  + 양수 -> 양의 상관관계 있음 (x증가->y증가)\n",
        "  + 음수 -> 음의 상관관계 있음 (x증가->y감소)"
      ]
    },
    {
      "cell_type": "code",
      "metadata": {
        "id": "q-h4Hc2MzIgY",
        "colab_type": "code",
        "colab": {
          "base_uri": "https://localhost:8080/",
          "height": 34
        },
        "outputId": "abde0f7f-b285-40ab-ecf1-366a1cbec235"
      },
      "source": [
        "# 광고비와 매출액의 관련성 여부를 알아보기 위해 공분산 계산\n",
        "# numpy패키지의 cov 함수를 사용\n",
        "# np.cov(ad, sales)\n",
        "print(np.cov(ad, sales)[0,1])"
      ],
      "execution_count": null,
      "outputs": [
        {
          "output_type": "stream",
          "text": [
            "50.24761904761905\n"
          ],
          "name": "stdout"
        }
      ]
    },
    {
      "cell_type": "code",
      "metadata": {
        "id": "PC1Wax-z0h2Y",
        "colab_type": "code",
        "colab": {
          "base_uri": "https://localhost:8080/",
          "height": 282
        },
        "outputId": "5aedb9ee-3e03-41c9-fc3e-a45d8feaf701"
      },
      "source": [
        "# 다음 x, y 에 대해 공분산 계산\n",
        "# x : 8 3 6 6 9 4 3 9 3 4\n",
        "# y : 6 2 4 6 10 5 1 8 4 5\n",
        "\n",
        "x = [8, 3, 6, 6, 9, 4, 3, 9, 3, 4]\n",
        "y = [6, 2, 4, 6, 10, 5, 1, 8, 4, 5]\n",
        "\n",
        "sns.scatterplot(x, y)\n",
        "\n",
        "print(np.cov(x, y)[0,1])"
      ],
      "execution_count": null,
      "outputs": [
        {
          "output_type": "stream",
          "text": [
            "5.61111111111111\n"
          ],
          "name": "stdout"
        },
        {
          "output_type": "display_data",
          "data": {
            "image/png": "[encoded data removed]",
            "text/plain": [
              "<Figure size 432x288 with 1 Axes>"
            ]
          },
          "metadata": {
            "tags": [],
            "needs_background": "light"
          }
        }
      ]
    },
    {
      "cell_type": "markdown",
      "metadata": {
        "id": "8MOq76ss2Enf",
        "colab_type": "text"
      },
      "source": [
        "# 상관계수 \n",
        "* 두 변수가 함께 변하는 정도를 -1~1 범위의 수치로 나타낸 것\n",
        "* 단위로 인한 공분산의 차이를 어느 정도 보완해 줌\n",
        "* 일반적으로 칼피어슨이 개발한 피어슨 상관계수를 사용함\n",
        "* numpy의 corrcoef 함수를 사용함\n",
        "\n",
        "### 상관계수 범위에 따른 상관정도 해석\n",
        "   + -1.0 ~ -0.7  : 매우 강한 음의 상관관계 있음\n",
        "   + -0.7 ~ -0.3  : 강한 음의 상관관계 있음\n",
        "   + -0.3 ~ -0.1  : 약한 음의 상관관계 있음\n",
        "   + -0.1 ~ 0.1   : 상관관계 없음\n",
        "   + 0.3 ~ 0.1    : 약한 양의 상관관계 있음\n",
        "   + 0.7 ~ 0.3    : 강한 양의 상관관계 있음\n",
        "   + 1.0 ~ 0.7    : 매우 강한 양의 상관관계 있음"
      ]
    },
    {
      "cell_type": "code",
      "metadata": {
        "id": "aimnmMrE2F0f",
        "colab_type": "code",
        "colab": {
          "base_uri": "https://localhost:8080/",
          "height": 35
        },
        "outputId": "71ef3dd4-b219-4f24-d33b-6ec0e521d47e"
      },
      "source": [
        "# 광고비와 매출액의 관련성 여부를 알아보기 위해 상관계수 계산\n",
        "# np.corrcoef(ad, sales)\n",
        "print(np.corrcoef(ad, sales)[0,1])"
      ],
      "execution_count": null,
      "outputs": [
        {
          "output_type": "stream",
          "text": [
            "0.8879209022406115\n"
          ],
          "name": "stdout"
        }
      ]
    },
    {
      "cell_type": "code",
      "metadata": {
        "id": "Qe52ik_h2Zmx",
        "colab_type": "code",
        "colab": {
          "base_uri": "https://localhost:8080/",
          "height": 35
        },
        "outputId": "32c06ea6-43f1-4d4d-9907-e3c8f3cd820f"
      },
      "source": [
        "# x, y 에 대해 상관계수 계산\n",
        "print(np.corrcoef(x, y)[0,1])"
      ],
      "execution_count": null,
      "outputs": [
        {
          "output_type": "stream",
          "text": [
            "0.8625172792135779\n"
          ],
          "name": "stdout"
        }
      ]
    },
    {
      "cell_type": "code",
      "metadata": {
        "id": "ZpQplxOPOUEv",
        "colab_type": "code",
        "colab": {
          "base_uri": "https://localhost:8080/",
          "height": 283
        },
        "outputId": "06f67a67-0f3e-4c3d-e7d9-d809032e3b59"
      },
      "source": [
        "# applewood 자동차판매 데이터를 기초로\n",
        "# 구매자 연령과 판매이익간의 상관계수를 계산하고 상관분석을 하시오\n",
        "import re\n",
        "\n",
        "aw = pd.read_csv('https://raw.githubusercontent.com/siestageek/bigdataset/master/applewood.txt', \n",
        "                 sep=' ', encoding='euc-kr')\n",
        "\n",
        "age = aw['Age']\n",
        "profit = aw['Profit']\n",
        "\n",
        "profit = profit.replace(',', '', regex=True)\n",
        "profit = profit.replace('\\$', '', regex=True)\n",
        "profit = profit.astype(int)\n",
        "\n",
        "# 각 데이터를 기반으로 산포도 그려봄\n",
        "mage = np.mean(age)\n",
        "mprofit = np.mean(profit)\n",
        "\n",
        "plt.axvline(x=mage, color='r')\n",
        "plt.axhline(y=mprofit, color='b')\n",
        "plt.scatter(age, profit)\n"
      ],
      "execution_count": null,
      "outputs": [
        {
          "output_type": "execute_result",
          "data": {
            "text/plain": [
              "<matplotlib.collections.PathCollection at 0x7efbdfe60a20>"
            ]
          },
          "metadata": {
            "tags": []
          },
          "execution_count": 5
        },
        {
          "output_type": "display_data",
          "data": {
            "image/png": "[encoded data removed]",
            "text/plain": [
              "<Figure size 432x288 with 1 Axes>"
            ]
          },
          "metadata": {
            "tags": [],
            "needs_background": "light"
          }
        }
      ]
    },
    {
      "cell_type": "code",
      "metadata": {
        "id": "eQt8fdltSKDb",
        "colab_type": "code",
        "colab": {
          "base_uri": "https://localhost:8080/",
          "height": 54
        },
        "outputId": "529ba8d3-274f-45b2-eeb4-dc240b71abd1"
      },
      "source": [
        "# 공분산과 상관계수 확인\n",
        "print(np.cov(age, profit)[0,1])\n",
        "print(np.corrcoef(age, profit)[0,1])\n",
        "# => 판매자 연령과 판매이익은 그리 큰 상관관계가 없음"
      ],
      "execution_count": null,
      "outputs": [
        {
          "output_type": "stream",
          "text": [
            "1774.4888268156421\n",
            "0.26152899109728933\n"
          ],
          "name": "stdout"
        }
      ]
    },
    {
      "cell_type": "code",
      "metadata": {
        "id": "izzSno-iZ5Qe",
        "colab_type": "code",
        "colab": {
          "base_uri": "https://localhost:8080/",
          "height": 407
        },
        "outputId": "9b569f26-9202-4813-adc4-db74cf64bf42"
      },
      "source": [
        "# ex) 놀이동산parks 데이터를 이용해서\n",
        "# 놀이기구rides와 전체 만족도의 상관관계를 분석하시오\n",
        "\n",
        "parks = pd.read_csv('https://raw.githubusercontent.com/siestageek/bigdataset/master/parks.csv')\n",
        "parks"
      ],
      "execution_count": null,
      "outputs": [
        {
          "output_type": "execute_result",
          "data": {
            "text/html": [
              "<div>\n",
              "<style scoped>\n",
              "    .dataframe tbody tr th:only-of-type {\n",
              "        vertical-align: middle;\n",
              "    }\n",
              "\n",
              "    .dataframe tbody tr th {\n",
              "        vertical-align: top;\n",
              "    }\n",
              "\n",
              "    .dataframe thead th {\n",
              "        text-align: right;\n",
              "    }\n",
              "</style>\n",
              "<table border=\"1\" class=\"dataframe\">\n",
              "  <thead>\n",
              "    <tr style=\"text-align: right;\">\n",
              "      <th></th>\n",
              "      <th>weekend</th>\n",
              "      <th>num.child</th>\n",
              "      <th>distance</th>\n",
              "      <th>rides</th>\n",
              "      <th>games</th>\n",
              "      <th>wait</th>\n",
              "      <th>clean</th>\n",
              "      <th>overall</th>\n",
              "    </tr>\n",
              "  </thead>\n",
              "  <tbody>\n",
              "    <tr>\n",
              "      <th>0</th>\n",
              "      <td>yes</td>\n",
              "      <td>0</td>\n",
              "      <td>114.648259</td>\n",
              "      <td>87</td>\n",
              "      <td>73</td>\n",
              "      <td>60</td>\n",
              "      <td>89</td>\n",
              "      <td>47</td>\n",
              "    </tr>\n",
              "    <tr>\n",
              "      <th>1</th>\n",
              "      <td>yes</td>\n",
              "      <td>2</td>\n",
              "      <td>27.014097</td>\n",
              "      <td>87</td>\n",
              "      <td>78</td>\n",
              "      <td>76</td>\n",
              "      <td>87</td>\n",
              "      <td>65</td>\n",
              "    </tr>\n",
              "    <tr>\n",
              "      <th>2</th>\n",
              "      <td>no</td>\n",
              "      <td>1</td>\n",
              "      <td>63.300975</td>\n",
              "      <td>85</td>\n",
              "      <td>80</td>\n",
              "      <td>70</td>\n",
              "      <td>88</td>\n",
              "      <td>61</td>\n",
              "    </tr>\n",
              "    <tr>\n",
              "      <th>3</th>\n",
              "      <td>yes</td>\n",
              "      <td>0</td>\n",
              "      <td>25.909931</td>\n",
              "      <td>88</td>\n",
              "      <td>72</td>\n",
              "      <td>66</td>\n",
              "      <td>89</td>\n",
              "      <td>37</td>\n",
              "    </tr>\n",
              "    <tr>\n",
              "      <th>4</th>\n",
              "      <td>no</td>\n",
              "      <td>4</td>\n",
              "      <td>54.718307</td>\n",
              "      <td>84</td>\n",
              "      <td>87</td>\n",
              "      <td>74</td>\n",
              "      <td>87</td>\n",
              "      <td>68</td>\n",
              "    </tr>\n",
              "    <tr>\n",
              "      <th>...</th>\n",
              "      <td>...</td>\n",
              "      <td>...</td>\n",
              "      <td>...</td>\n",
              "      <td>...</td>\n",
              "      <td>...</td>\n",
              "      <td>...</td>\n",
              "      <td>...</td>\n",
              "      <td>...</td>\n",
              "    </tr>\n",
              "    <tr>\n",
              "      <th>495</th>\n",
              "      <td>no</td>\n",
              "      <td>0</td>\n",
              "      <td>11.052577</td>\n",
              "      <td>90</td>\n",
              "      <td>72</td>\n",
              "      <td>68</td>\n",
              "      <td>90</td>\n",
              "      <td>46</td>\n",
              "    </tr>\n",
              "    <tr>\n",
              "      <th>496</th>\n",
              "      <td>yes</td>\n",
              "      <td>0</td>\n",
              "      <td>8.187740</td>\n",
              "      <td>91</td>\n",
              "      <td>83</td>\n",
              "      <td>82</td>\n",
              "      <td>91</td>\n",
              "      <td>47</td>\n",
              "    </tr>\n",
              "    <tr>\n",
              "      <th>497</th>\n",
              "      <td>no</td>\n",
              "      <td>2</td>\n",
              "      <td>45.177402</td>\n",
              "      <td>95</td>\n",
              "      <td>92</td>\n",
              "      <td>85</td>\n",
              "      <td>93</td>\n",
              "      <td>71</td>\n",
              "    </tr>\n",
              "    <tr>\n",
              "      <th>498</th>\n",
              "      <td>no</td>\n",
              "      <td>3</td>\n",
              "      <td>27.088380</td>\n",
              "      <td>83</td>\n",
              "      <td>83</td>\n",
              "      <td>80</td>\n",
              "      <td>88</td>\n",
              "      <td>54</td>\n",
              "    </tr>\n",
              "    <tr>\n",
              "      <th>499</th>\n",
              "      <td>no</td>\n",
              "      <td>1</td>\n",
              "      <td>38.408760</td>\n",
              "      <td>86</td>\n",
              "      <td>88</td>\n",
              "      <td>77</td>\n",
              "      <td>85</td>\n",
              "      <td>62</td>\n",
              "    </tr>\n",
              "  </tbody>\n",
              "</table>\n",
              "<p>500 rows × 8 columns</p>\n",
              "</div>"
            ],
            "text/plain": [
              "    weekend  num.child    distance  rides  games  wait  clean  overall\n",
              "0       yes          0  114.648259     87     73    60     89       47\n",
              "1       yes          2   27.014097     87     78    76     87       65\n",
              "2        no          1   63.300975     85     80    70     88       61\n",
              "3       yes          0   25.909931     88     72    66     89       37\n",
              "4        no          4   54.718307     84     87    74     87       68\n",
              "..      ...        ...         ...    ...    ...   ...    ...      ...\n",
              "495      no          0   11.052577     90     72    68     90       46\n",
              "496     yes          0    8.187740     91     83    82     91       47\n",
              "497      no          2   45.177402     95     92    85     93       71\n",
              "498      no          3   27.088380     83     83    80     88       54\n",
              "499      no          1   38.408760     86     88    77     85       62\n",
              "\n",
              "[500 rows x 8 columns]"
            ]
          },
          "metadata": {
            "tags": []
          },
          "execution_count": 62
        }
      ]
    },
    {
      "cell_type": "code",
      "metadata": {
        "id": "xYX2Ont_aFMG",
        "colab_type": "code",
        "colab": {
          "base_uri": "https://localhost:8080/",
          "height": 283
        },
        "outputId": "28634ad1-c4f0-44e1-e6fe-a5903d955182"
      },
      "source": [
        "# 각 데이터를 기반으로 산포도 그려봄\n",
        "rides = parks['rides']\n",
        "overall = parks['overall']\n",
        "\n",
        "mrides = np.mean(rides)\n",
        "moverall = np.mean(overall)\n",
        "\n",
        "plt.axvline(x=mrides, color='r')\n",
        "plt.axhline(y=moverall, color='r')\n",
        "plt.scatter(rides, overall)"
      ],
      "execution_count": null,
      "outputs": [
        {
          "output_type": "execute_result",
          "data": {
            "text/plain": [
              "<matplotlib.collections.PathCollection at 0x7f8818b60c50>"
            ]
          },
          "metadata": {
            "tags": []
          },
          "execution_count": 69
        },
        {
          "output_type": "display_data",
          "data": {
            "image/png": "[encoded data removed]",
            "text/plain": [
              "<Figure size 432x288 with 1 Axes>"
            ]
          },
          "metadata": {
            "tags": [],
            "needs_background": "light"
          }
        }
      ]
    },
    {
      "cell_type": "code",
      "metadata": {
        "id": "7pv-Hfy9ahyH",
        "colab_type": "code",
        "colab": {
          "base_uri": "https://localhost:8080/",
          "height": 54
        },
        "outputId": "1f0a8acc-18b1-4f1b-a6ce-5576dc2b4be7"
      },
      "source": [
        "# 공분산과 상관계수 확인\n",
        "print(np.cov(rides, overall)[0,1])\n",
        "print(np.corrcoef(rides, overall)[0,1])\n",
        "# => 판매자 연령과 판매이익은 그리 큰 상관관계가 없음"
      ],
      "execution_count": null,
      "outputs": [
        {
          "output_type": "stream",
          "text": [
            "50.82939078156314\n",
            "0.5859862820034292\n"
          ],
          "name": "stdout"
        }
      ]
    },
    {
      "cell_type": "markdown",
      "metadata": {
        "id": "emMBzAMxeIAw",
        "colab_type": "text"
      },
      "source": [
        "# 상관계수 행렬과 히트맵\n",
        "* 보통 다수의 변수간의 상관계수를 구할때는 일일히 계산하지 않고\n",
        "  상관계수 행렬을 사용함\n",
        "* 하지만, 많은 변수들간의 상관계수를 표로 나타내기엔\n",
        "  가독성이 좋지 않음\n",
        "* 히트맵이라는 시각화도구를 사용하면 상관계수와 상관정도를\n",
        "  색상으로 표현하기 때문에 가독성과 이해도가 좋아짐"
      ]
    },
    {
      "cell_type": "code",
      "metadata": {
        "id": "e31ExZpoa9Ch",
        "colab_type": "code",
        "colab": {
          "base_uri": "https://localhost:8080/",
          "height": 258
        },
        "outputId": "c5b75f6e-d3a5-4b06-d097-10315fac015c"
      },
      "source": [
        "# 놀이동산parks 데이터를 이용해서 상관관계를 분석하시오\n",
        "# 파이썬에서는 pandas 객체의 corr 함수를 이용하면 \n",
        "# 상관계수 행렬을 나타낼 수 있음\n",
        "parks.corr()"
      ],
      "execution_count": null,
      "outputs": [
        {
          "output_type": "execute_result",
          "data": {
            "text/html": [
              "<div>\n",
              "<style scoped>\n",
              "    .dataframe tbody tr th:only-of-type {\n",
              "        vertical-align: middle;\n",
              "    }\n",
              "\n",
              "    .dataframe tbody tr th {\n",
              "        vertical-align: top;\n",
              "    }\n",
              "\n",
              "    .dataframe thead th {\n",
              "        text-align: right;\n",
              "    }\n",
              "</style>\n",
              "<table border=\"1\" class=\"dataframe\">\n",
              "  <thead>\n",
              "    <tr style=\"text-align: right;\">\n",
              "      <th></th>\n",
              "      <th>num.child</th>\n",
              "      <th>distance</th>\n",
              "      <th>rides</th>\n",
              "      <th>games</th>\n",
              "      <th>wait</th>\n",
              "      <th>clean</th>\n",
              "      <th>overall</th>\n",
              "    </tr>\n",
              "  </thead>\n",
              "  <tbody>\n",
              "    <tr>\n",
              "      <th>num.child</th>\n",
              "      <td>1.000000</td>\n",
              "      <td>-0.012136</td>\n",
              "      <td>-0.040260</td>\n",
              "      <td>0.004658</td>\n",
              "      <td>-0.020973</td>\n",
              "      <td>-0.013452</td>\n",
              "      <td>0.319480</td>\n",
              "    </tr>\n",
              "    <tr>\n",
              "      <th>distance</th>\n",
              "      <td>-0.012136</td>\n",
              "      <td>1.000000</td>\n",
              "      <td>-0.009526</td>\n",
              "      <td>-0.006503</td>\n",
              "      <td>-0.007392</td>\n",
              "      <td>0.003969</td>\n",
              "      <td>0.087126</td>\n",
              "    </tr>\n",
              "    <tr>\n",
              "      <th>rides</th>\n",
              "      <td>-0.040260</td>\n",
              "      <td>-0.009526</td>\n",
              "      <td>1.000000</td>\n",
              "      <td>0.455185</td>\n",
              "      <td>0.314200</td>\n",
              "      <td>0.789565</td>\n",
              "      <td>0.585986</td>\n",
              "    </tr>\n",
              "    <tr>\n",
              "      <th>games</th>\n",
              "      <td>0.004658</td>\n",
              "      <td>-0.006503</td>\n",
              "      <td>0.455185</td>\n",
              "      <td>1.000000</td>\n",
              "      <td>0.299105</td>\n",
              "      <td>0.516980</td>\n",
              "      <td>0.437468</td>\n",
              "    </tr>\n",
              "    <tr>\n",
              "      <th>wait</th>\n",
              "      <td>-0.020973</td>\n",
              "      <td>-0.007392</td>\n",
              "      <td>0.314200</td>\n",
              "      <td>0.299105</td>\n",
              "      <td>1.000000</td>\n",
              "      <td>0.367885</td>\n",
              "      <td>0.572622</td>\n",
              "    </tr>\n",
              "    <tr>\n",
              "      <th>clean</th>\n",
              "      <td>-0.013452</td>\n",
              "      <td>0.003969</td>\n",
              "      <td>0.789565</td>\n",
              "      <td>0.516980</td>\n",
              "      <td>0.367885</td>\n",
              "      <td>1.000000</td>\n",
              "      <td>0.639398</td>\n",
              "    </tr>\n",
              "    <tr>\n",
              "      <th>overall</th>\n",
              "      <td>0.319480</td>\n",
              "      <td>0.087126</td>\n",
              "      <td>0.585986</td>\n",
              "      <td>0.437468</td>\n",
              "      <td>0.572622</td>\n",
              "      <td>0.639398</td>\n",
              "      <td>1.000000</td>\n",
              "    </tr>\n",
              "  </tbody>\n",
              "</table>\n",
              "</div>"
            ],
            "text/plain": [
              "           num.child  distance     rides  ...      wait     clean   overall\n",
              "num.child   1.000000 -0.012136 -0.040260  ... -0.020973 -0.013452  0.319480\n",
              "distance   -0.012136  1.000000 -0.009526  ... -0.007392  0.003969  0.087126\n",
              "rides      -0.040260 -0.009526  1.000000  ...  0.314200  0.789565  0.585986\n",
              "games       0.004658 -0.006503  0.455185  ...  0.299105  0.516980  0.437468\n",
              "wait       -0.020973 -0.007392  0.314200  ...  1.000000  0.367885  0.572622\n",
              "clean      -0.013452  0.003969  0.789565  ...  0.367885  1.000000  0.639398\n",
              "overall     0.319480  0.087126  0.585986  ...  0.572622  0.639398  1.000000\n",
              "\n",
              "[7 rows x 7 columns]"
            ]
          },
          "metadata": {
            "tags": []
          },
          "execution_count": 70
        }
      ]
    },
    {
      "cell_type": "code",
      "metadata": {
        "id": "FN4loEPJbkSR",
        "colab_type": "code",
        "colab": {
          "base_uri": "https://localhost:8080/",
          "height": 327
        },
        "outputId": "acf4f4cc-0638-467e-8a13-c8c1f8bd710e"
      },
      "source": [
        "sns.heatmap(data = parks.corr(), annot=True, fmt = '.2f')"
      ],
      "execution_count": null,
      "outputs": [
        {
          "output_type": "execute_result",
          "data": {
            "text/plain": [
              "<matplotlib.axes._subplots.AxesSubplot at 0x7f881ff70f60>"
            ]
          },
          "metadata": {
            "tags": []
          },
          "execution_count": 68
        },
        {
          "output_type": "display_data",
          "data": {
            "image/png": "[encoded data removed]",
            "text/plain": [
              "<Figure size 432x288 with 2 Axes>"
            ]
          },
          "metadata": {
            "tags": [],
            "needs_background": "light"
          }
        }
      ]
    },
    {
      "cell_type": "code",
      "metadata": {
        "id": "_6Qup9wjmXYh",
        "colab_type": "code",
        "colab": {
          "base_uri": "https://localhost:8080/",
          "height": 283
        },
        "outputId": "00d8b9dd-0692-4dba-d8fd-98cb1a43a431"
      },
      "source": [
        "# ex) 판매원 15명의 판촉횟수와 판매량 자료가 \n",
        "# 다음과 같을때 전화횟수에 따라 판매량 변화가 있는지 알아보시오\n",
        "p =  [96, 40, 104, 128, 164, 76, 72, 80, 36, 84, 180, 132, 120, 44, 84]\n",
        "s = [41, 41, 51, 60, 61, 29, 39, 50, 28, 43, 70, 56, 45, 31, 30]\n",
        "\n",
        "mp = np.mean(p)\n",
        "ms = np.mean(s)\n",
        "plt.axvline(x=mp, color='r')\n",
        "plt.axhline(y=ms, color='r')\n",
        "plt.scatter(p, s)"
      ],
      "execution_count": null,
      "outputs": [
        {
          "output_type": "execute_result",
          "data": {
            "text/plain": [
              "<matplotlib.collections.PathCollection at 0x7efbe341cb38>"
            ]
          },
          "metadata": {
            "tags": []
          },
          "execution_count": 3
        },
        {
          "output_type": "display_data",
          "data": {
            "image/png": "[encoded data removed]",
            "text/plain": [
              "<Figure size 432x288 with 1 Axes>"
            ]
          },
          "metadata": {
            "tags": [],
            "needs_background": "light"
          }
        }
      ]
    },
    {
      "cell_type": "code",
      "metadata": {
        "id": "O5EdJJF8mu5D",
        "colab_type": "code",
        "colab": {
          "base_uri": "https://localhost:8080/",
          "height": 54
        },
        "outputId": "49fb9ee8-cff2-4eb6-cf0f-c50efd85d9e2"
      },
      "source": [
        "print(np.cov(p, s)[0,1])\n",
        "print(np.corrcoef(p, s)[0,1])"
      ],
      "execution_count": null,
      "outputs": [
        {
          "output_type": "stream",
          "text": [
            "476.57142857142856\n",
            "0.8646317910740129\n"
          ],
          "name": "stdout"
        }
      ]
    },
    {
      "cell_type": "markdown",
      "metadata": {
        "id": "sxr0C61_o0cW",
        "colab_type": "text"
      },
      "source": [
        "# 상관계수 종류\n",
        "* pearson : 등간/비율척도, 정규성을 띄어야 함\n",
        "  + 상관관계를 모수적 관점에서 분석\n",
        "  + numpy의 corrcoef함수 사용\n",
        "\n",
        "* spearman : 순서척도, 정규성을 띄지않음 \n",
        "  + 두 변수의 관계가 비선형적\n",
        "  + 상관관계를 비모수적 관점에서 분석\n",
        "  + scipy의 spearmanr함수 사용\n",
        "\n",
        "* kendall : 순서척도, 정규성을 띄지않음\n",
        "  + 두 변수의 관계가 비선형적\n",
        "  + 표본이 작을 경우 spearman보다 훨씬 신뢰할 만함\n",
        "  + 상관관계를 비모수적 관점에서 분석\n",
        "  + scipy의 kindalltau함수 사용"
      ]
    },
    {
      "cell_type": "markdown",
      "metadata": {
        "id": "j5pZBwyaRCN6",
        "colab_type": "text"
      },
      "source": [
        "# 상관계수 유의성 검정\n",
        "* 판촉전화횟수와 판매량이 서로 관련없는데\n",
        "상관계수가 양으로 나온것은 아닐까?\n",
        "* 유의수준 0.05를 기준으로 가설검정 실시\n",
        "* 상관계수의 검정통계량은 t분포를 이용\n",
        "\n",
        "  + 귀무가설 : 상관계수 0이다 (연관성 없음)\n",
        "  + 대립가설 : 상관계수 0이 아니다 (연관성 있음)\n",
        "* 파이썬에서는 scipy의 pearsonr 함수를 이용해서 검정 실시  "
      ]
    },
    {
      "cell_type": "code",
      "metadata": {
        "id": "FIiPSX3WSNQS",
        "colab_type": "code",
        "colab": {
          "base_uri": "https://localhost:8080/",
          "height": 35
        },
        "outputId": "6f5435e3-ca53-4693-bae3-a0b811676a21"
      },
      "source": [
        "# 다음 x, y 에 대해 상관계수 검정 실시\n",
        "# x : 8 3 6 6 9 4 3 9 3 4\n",
        "# y : 6 2 4 6 10 5 1 8 4 5\n",
        "\n",
        "x = [8, 3, 6, 6, 9, 4, 3, 9, 3, 4]\n",
        "y = [6, 2, 4, 6, 10, 5, 1, 8, 4, 5]\n",
        "\n",
        "t, p = stats.pearsonr(x, y)\n",
        "print(t, p)\n",
        "# pvalue값이 0.05보다 작으므로 상관계수가 통계적으로 유의미하다 말할수 있음"
      ],
      "execution_count": null,
      "outputs": [
        {
          "output_type": "stream",
          "text": [
            "(0.862517279213578, 0.0013196539142000013)\n"
          ],
          "name": "stdout"
        }
      ]
    },
    {
      "cell_type": "code",
      "metadata": {
        "id": "r9kldeanS5sc",
        "colab_type": "code",
        "colab": {
          "base_uri": "https://localhost:8080/",
          "height": 373
        },
        "outputId": "8e8204b1-934f-4337-d30e-40ad47ec6c6b"
      },
      "source": [
        "# ex) 판매원 15명의 판촉횟수와 판매량 자료간의 \n",
        "# 상관계수에 대한 유의성 검정을 실시하세요\n",
        "\n",
        "t, p = stats.pearsonr(p, s)\n",
        "print(p)\n",
        "# pvalue값이 0.05보다 작으므로 상관계수가 통계적으로 유의미하다 말할수 있음"
      ],
      "execution_count": null,
      "outputs": [
        {
          "output_type": "error",
          "ename": "TypeError",
          "evalue": "ignored",
          "traceback": [
            "\u001b[0;31m---------------------------------------------------------------------------\u001b[0m",
            "\u001b[0;31mTypeError\u001b[0m                                 Traceback (most recent call last)",
            "\u001b[0;32m<ipython-input-21-3055a2a8b7a6>\u001b[0m in \u001b[0;36m<module>\u001b[0;34m()\u001b[0m\n\u001b[1;32m      2\u001b[0m \u001b[0;31m# 상관계수에 대한 유의성 검정을 실시하세요\u001b[0m\u001b[0;34m\u001b[0m\u001b[0;34m\u001b[0m\u001b[0;34m\u001b[0m\u001b[0m\n\u001b[1;32m      3\u001b[0m \u001b[0;34m\u001b[0m\u001b[0m\n\u001b[0;32m----> 4\u001b[0;31m \u001b[0mt\u001b[0m\u001b[0;34m,\u001b[0m \u001b[0mp\u001b[0m \u001b[0;34m=\u001b[0m \u001b[0mstats\u001b[0m\u001b[0;34m.\u001b[0m\u001b[0mpearsonr\u001b[0m\u001b[0;34m(\u001b[0m\u001b[0mp\u001b[0m\u001b[0;34m,\u001b[0m \u001b[0ms\u001b[0m\u001b[0;34m)\u001b[0m\u001b[0;34m\u001b[0m\u001b[0;34m\u001b[0m\u001b[0m\n\u001b[0m\u001b[1;32m      5\u001b[0m \u001b[0mprint\u001b[0m\u001b[0;34m(\u001b[0m\u001b[0mp\u001b[0m\u001b[0;34m)\u001b[0m\u001b[0;34m\u001b[0m\u001b[0;34m\u001b[0m\u001b[0m\n\u001b[1;32m      6\u001b[0m \u001b[0;31m# pvalue값이 0.05보다 작으므로 상관계수가 통계적으로 유의미하다 말할수 있음\u001b[0m\u001b[0;34m\u001b[0m\u001b[0;34m\u001b[0m\u001b[0;34m\u001b[0m\u001b[0m\n",
            "\u001b[0;32m/usr/local/lib/python3.6/dist-packages/scipy/stats/stats.py\u001b[0m in \u001b[0;36mpearsonr\u001b[0;34m(x, y)\u001b[0m\n\u001b[1;32m   3494\u001b[0m \u001b[0;34m\u001b[0m\u001b[0m\n\u001b[1;32m   3495\u001b[0m     \"\"\"\n\u001b[0;32m-> 3496\u001b[0;31m     \u001b[0mn\u001b[0m \u001b[0;34m=\u001b[0m \u001b[0mlen\u001b[0m\u001b[0;34m(\u001b[0m\u001b[0mx\u001b[0m\u001b[0;34m)\u001b[0m\u001b[0;34m\u001b[0m\u001b[0;34m\u001b[0m\u001b[0m\n\u001b[0m\u001b[1;32m   3497\u001b[0m     \u001b[0;32mif\u001b[0m \u001b[0mn\u001b[0m \u001b[0;34m!=\u001b[0m \u001b[0mlen\u001b[0m\u001b[0;34m(\u001b[0m\u001b[0my\u001b[0m\u001b[0;34m)\u001b[0m\u001b[0;34m:\u001b[0m\u001b[0;34m\u001b[0m\u001b[0;34m\u001b[0m\u001b[0m\n\u001b[1;32m   3498\u001b[0m         \u001b[0;32mraise\u001b[0m \u001b[0mValueError\u001b[0m\u001b[0;34m(\u001b[0m\u001b[0;34m'x and y must have the same length.'\u001b[0m\u001b[0;34m)\u001b[0m\u001b[0;34m\u001b[0m\u001b[0;34m\u001b[0m\u001b[0m\n",
            "\u001b[0;31mTypeError\u001b[0m: object of type 'numpy.float64' has no len()"
          ]
        }
      ]
    },
    {
      "cell_type": "code",
      "metadata": {
        "id": "8R9paEYmV8Pq",
        "colab_type": "code",
        "colab": {
          "base_uri": "https://localhost:8080/",
          "height": 35
        },
        "outputId": "878f97eb-ab06-4666-bbea-7b23124de3be"
      },
      "source": [
        "# ex) applewood 데이터를 기초로 해서 구매자 연령과 판매이익의 \n",
        "# 상관관계에 대한 유의성 검정을 실시하세요\n",
        "\n",
        "t, p = stats.pearsonr(age, profit)\n",
        "print(p)\n",
        "# pvalue값이 0.05보다 작으므로 상관계수가 통계적으로 유의미하다 말할수 있음"
      ],
      "execution_count": null,
      "outputs": [
        {
          "output_type": "stream",
          "text": [
            "0.000390742532747444\n"
          ],
          "name": "stdout"
        }
      ]
    },
    {
      "cell_type": "code",
      "metadata": {
        "id": "1ZX8szZnWjZD",
        "colab_type": "code",
        "colab": {
          "base_uri": "https://localhost:8080/",
          "height": 283
        },
        "outputId": "a16957fa-e426-4ad1-9af9-df5e35b0789f"
      },
      "source": [
        "# ex) 어느 대학교 학생회에서는 학생이 마시는 맥주와 혈중알콜농도 \n",
        "# 사이 관계를 알고자 한다. 18명의 학생을 확률표본추출하여\n",
        "# 맥주캔 500ml을 마시게 하고 30분후 경찰서에서 혈중알콜농도를 측정하였음\n",
        "# 시음량과 혈중알콜농도사이에는 어떤 상관관계가 있는가? \n",
        "# 상관계수 유의성 검정도 실시하시오\n",
        "\n",
        "beer = [6,7,7,4,5,3,3,6,6,3,3,7,1,4,2,7,2,1]\n",
        "blood = [0.1, 0.09, 0.09, 0.1, 0.1, 0.07, 0.1, 0.12, \n",
        "           0.09, 0.07,0.05,0.08,0.04,0.07,0.06,0.12,0.05,0.02]\n",
        "\n",
        "mbeer = np.mean(beer)\n",
        "mblood = np.mean(blood)\n",
        "\n",
        "plt.axvline(x=mbeer, color='red')\n",
        "plt.axhline(y=mblood, color='red')\n",
        "plt.scatter(beer, blood)"
      ],
      "execution_count": null,
      "outputs": [
        {
          "output_type": "execute_result",
          "data": {
            "text/plain": [
              "<matplotlib.collections.PathCollection at 0x7efbdfd62a90>"
            ]
          },
          "metadata": {
            "tags": []
          },
          "execution_count": 8
        },
        {
          "output_type": "display_data",
          "data": {
            "image/png": "[encoded data removed]",
            "text/plain": [
              "<Figure size 432x288 with 1 Axes>"
            ]
          },
          "metadata": {
            "tags": [],
            "needs_background": "light"
          }
        }
      ]
    },
    {
      "cell_type": "code",
      "metadata": {
        "id": "za30jYDkXMAa",
        "colab_type": "code",
        "colab": {
          "base_uri": "https://localhost:8080/",
          "height": 72
        },
        "outputId": "f8869fc9-c437-427a-d32b-8d1f03a8419f"
      },
      "source": [
        "# 시음량과 알콜농도간의 상관계수와 유의성검정 실시\n",
        "print(np.cov(beer, blood)[0,1])\n",
        "print(np.corrcoef(beer, blood)[0,1])\n",
        "t, p = stats.pearsonr(beer, blood)\n",
        "print(p)\n",
        "\n",
        "# 상관계수가 0.78이므로 시음량과 알콜농도 사이에 강한 상관관계가 있을 가능성이 존재함\n",
        "# pvalue값이 0.05보다 작으므로 상관계수가 통계적으로 유의미하다 말할수 있음"
      ],
      "execution_count": null,
      "outputs": [
        {
          "output_type": "stream",
          "text": [
            "0.04562091503267973\n",
            "0.7787952557356483\n",
            "0.00014011286878354507\n"
          ],
          "name": "stdout"
        }
      ]
    },
    {
      "cell_type": "markdown",
      "metadata": {
        "id": "5Vetg6CTZgdb",
        "colab_type": "text"
      },
      "source": [
        "# 상관분석시 유의사항\n",
        "* 독립변수와 종속변수간 연관성 분석 목적\n",
        "* 그래프로 상관정도를 시각적으로 확인해랴 할 필요 존재\n",
        "* 만일, 두 변수간의 관계가 곡선형태라면 스피어만이나 켄달 방식 사용\n",
        "* 두 변수의 상관관계는 인과관계를 담보하지 않음\n",
        "* 이질적인 집단의 합은 '심슨의 역설'을 유발할 수 있음\n",
        "   + 각 집단별 상관관계와 전체 총합의 상관관계는 다를 수 있음\n",
        "   + 즉, 상관분석 결과가 예상과 다를 경우, 이질적인 하위집단들이\n",
        "     존재하는지 살펴봐야 할 수도 있음"
      ]
    },
    {
      "cell_type": "markdown",
      "metadata": {
        "id": "RUhFi5Z5dJkY",
        "colab_type": "text"
      },
      "source": [
        "# 심슨의 역설\n",
        "\n",
        "* 각 부분에 대한 평균이 크다고 해서 전체에 대한 평균이 크지 않다는 법칙\n",
        "* 즉, 각각의 변수에 신경쓰지 않고 전체 통계 결과를 유추하다 발생하는 오류\n",
        "\n",
        "* ex) 공학부에서 900명의 학생을, 식품영양학과에서 100명의 학생을 모집한다고 했을때 남여학생이 각각 1000명 지원했음\n",
        "\n",
        "* 공학부 합격자 비율\n",
        "\n",
        "| - | 지원자  |  합격자  |  합격율 |\n",
        "| --- | --- | --- | --- |\n",
        "| 남학생 | 900 | 720  | 80% |\n",
        "| 여학생 | 200 | 180  | 90% |\n",
        "\n",
        "* 식품영양부 합격자 비율\n",
        "\n",
        "| -  | 지원자  |  합격자  |  합격율 |\n",
        "| -- | --    | --     | -- | \n",
        "| 남학생 | 100 | 10  | 10% |\n",
        "| 여학생 | 800 | 90  | 11.25% |\n",
        "\n",
        "+ 전체 합격자 비율 (남학생 높음)\n",
        "\n",
        "| -  | 지원자  |  합격자  |  합격율 |\n",
        "| -- | --    | --     | -- | \n",
        "| 남학생 | 1000 | 730  | 73% |\n",
        "| 여학생 | 1000 | 270  | 27% |\n",
        "\n",
        "* 각 모집단위에서는 여학생의 합격비율이 남학생보다 높은것으로 나타남\n",
        "* 전체 모집단에서도 역시 여학생의 합격비율이 높을꺼라고 예상했지만\n",
        "  실제로는 남학생의 합격비율이 더 높게 나옴(!!)\n",
        "* 즉, 단일그룹에서 적용된 어떤 법칙이 전체그룹에는 적용되지 않음\n",
        "* 통계의 함정\n",
        " + 각 그룹의 표본의 크기가 일정하지 않으면 가중치를 부여해서\n",
        "  동일한 비율로 조정해야 할 필요가 있음"
      ]
    },
    {
      "cell_type": "markdown",
      "metadata": {
        "id": "5FkpmxEciP6K",
        "colab_type": "text"
      },
      "source": [
        "# 다양한 종류의 상관계수\n",
        "\n",
        "![](https://github.com/siestageek/bigdataset/blob/master/20200724002.png?raw=true)"
      ]
    }
  ]
}