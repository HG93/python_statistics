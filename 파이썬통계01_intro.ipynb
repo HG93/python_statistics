{
  "nbformat": 4,
  "nbformat_minor": 0,
  "metadata": {
    "colab": {
      "name": "파이썬통계01-intro.ipynb",
      "provenance": [],
      "collapsed_sections": []
    },
    "kernelspec": {
      "name": "python3",
      "display_name": "Python 3"
    }
  },
  "cells": [
    {
      "cell_type": "markdown",
      "metadata": {
        "id": "7qZ2jujjtJuz",
        "colab_type": "text"
      },
      "source": [
        "# 마크다운markdown\n",
        "\n",
        "* 주피터 노트북등에 문서 작성시 내용전달시 이해하기 쉽도록\n",
        " 추가적으로 작성하는 꾸밈 문장을 마크다운을 이용해서 작성함\n",
        "* 이러한 종류의 문서는 보통 .md라는 확장자를 가짐\n",
        "\n",
        "* 간단하고 단순한 문법으로 html 기반 문서를 \n",
        " 손쉽게 작성하게 해주기 때문에 익혀두면 유용함  \n",
        " 또한 복잡한 수식도 화려하게 작성할 수도 있음\n",
        "\n",
        " "
      ]
    },
    {
      "cell_type": "markdown",
      "metadata": {
        "id": "PWvuvPVlkThH",
        "colab_type": "text"
      },
      "source": [
        "```\n",
        "  1. 텍스트 기반의 마크업언어로 2004년 존그루버에 의해 만들어졌으며 쉽게 쓰고 읽을 수 있으며 HTML로 변환이 가능 \n",
        "  2. 특수기호와 문자를 이용한 매우 간단한 구조의 문법을 사용하여 웹에서도 보다 빠르게 컨텐츠를 작성하고 보다 직관적으로 인식할 수 있음\n",
        "  3. 마크다운이 최근 각광받기 시작한 이유는 github 덕분임 \n",
        "  4. 깃헙의 저장소Repository에 관한 정보를 기록하는 README.md는 깃헙을 사용하는 사람이라면 누구나 가장 먼저 접하게 되는 마크다운 문서였음\n",
        "  5. 이 문서를 통해서 설치방법, 소스코드 설명, 이슈 등을 간단하게 기록하고 가독성을 높일 수 있다는 강점이 부각되면서 점점 여러 곳으로 퍼져가게 되었음\n",
        "```\n",
        "\n",
        "## 1.2. 마크다운의 장-단점\n",
        "### 1.2.1. 장점\n",
        "\t1. 간결하다.\n",
        "\t2. 별도의 도구없이 작성가능하다.\n",
        "\t3. 다양한 형태로 변환이 가능하다.\n",
        "\t3. 텍스트(Text)로 저장되기 때문에 용량이 적어 보관이 용이하다.\n",
        "\t4. 텍스트파일이기 때문에 버전관리시스템을 이용하여 변경이력을 관리할 수 있다.\n",
        "\t5. 지원하는 프로그램과 플랫폼이 다양하다.\n",
        "### 1.2.2. 단점\n",
        "\t1. 표준이 없다.\n",
        "\t2. 표준이 없기 때문에 도구에 따라서 변환방식이나 생성물이 다르다.\n",
        "\t3. 모든 HTML 마크업을 대신하지 못한다."
      ]
    },
    {
      "cell_type": "markdown",
      "metadata": {
        "id": "EgtilO7stho8",
        "colab_type": "text"
      },
      "source": [
        "# 제목을 작성할때는 #을 사용**\n",
        "\n",
        "# 제목 1\n",
        "## 제목 2\n",
        "### 제목 3\n",
        "#### 제목 4\n",
        "##### 제목 5\n"
      ]
    },
    {
      "cell_type": "markdown",
      "metadata": {
        "id": "ap1NmbAmwvbI",
        "colab_type": "text"
      },
      "source": [
        "# 문장꾸미기에는 **, __, ~~ 등이 사용된다\n",
        "\n",
        "줄바꿈은 스페이스바 2번 입력  \n",
        "**진하게** 표시하려면 \\** 사용  \n",
        "__진하게__ 표시하려면 \\__ 사용  \n",
        "_기울어진 글씨_를 표시하려면 \\___ 사용  \n",
        "*기울어진 글씨*는 \\* 로도 표시할 수 있음  \n",
        "~~취소선~~은 ~로 이용함 \n"
      ]
    },
    {
      "cell_type": "markdown",
      "metadata": {
        "id": "AfvDrdmTuV58",
        "colab_type": "text"
      },
      "source": [
        "# 구분선을 그을려면 -를 여러번 작성하면 됨  \n",
        "  \n",
        "항목 추가  \n",
        "-------------------------  \n",
        "항목 추가  \n",
        "* * * * * * * * * * * * *  \n",
        "\n"
      ]
    },
    {
      "cell_type": "markdown",
      "metadata": {
        "id": "xshN40bz610Q",
        "colab_type": "text"
      },
      "source": [
        "# 인용구를 입력하려면 > 를 사용함\n",
        "\n",
        "> 시간은 금이라구, 친구!!"
      ]
    },
    {
      "cell_type": "markdown",
      "metadata": {
        "id": "Ty347SchuwCH",
        "colab_type": "text"
      },
      "source": [
        "# 순서있는 목록을 만들려면 항목앞에 숫자를 작성한다\n",
        "\n",
        "### * 좋아하는 게임들\n",
        "\n",
        "1. 디아블로 4\n",
        "2. 월드오브워크래프트\n",
        "3. 스타크래프트\n",
        "4. 롤\n"
      ]
    },
    {
      "cell_type": "markdown",
      "metadata": {
        "id": "u1U3tshvvS_J",
        "colab_type": "text"
      },
      "source": [
        "# 순서없는 목록을 만들려면 항목앞에 -를 작성한다 단, 목록에 들여쓰기를 적용하려면 탭을 사용함\n",
        "\n",
        "\n",
        "### 좋아하는 게임들\n",
        "- 디아블로 4\n",
        "- 월드오브워크래프트\n",
        "- 스타크래프트\n",
        "- 롤\n",
        "\n",
        "  + 디아블로 4\n",
        "  + 월드오브워크래프트\n",
        "  + 스타크래프트\n",
        "  + 롤\n",
        "\n",
        "    * 디아블로 4\n",
        "    * 월드오브워크래프트\n",
        "    * 스타크래프트\n",
        "    * 롤\n",
        "\n"
      ]
    },
    {
      "cell_type": "markdown",
      "metadata": {
        "id": "hr_w8hA2x17H",
        "colab_type": "text"
      },
      "source": [
        "# 링크를 작성하려면 []문자 사이에 링크제목을 정의하고   \n",
        "# ()로 링크를 클릭했을때 이동할 URL을 지정함\n",
        "\n",
        "[구글](http://google.com)  \n",
        "[네이버](http://naver.co.kr)\n"
      ]
    },
    {
      "cell_type": "markdown",
      "metadata": {
        "id": "lGpb45RgyoQp",
        "colab_type": "text"
      },
      "source": [
        "이미지는 ![]문자 사이에 이미지제목을 정의하고\n",
        "()로 이미지의 URL을 지정함\n",
        "\n",
        "![수지뽀뽀](https://file.thisisgame.com/upload/tboard/user/2013/01/25/20130125181216_6417.jpg)"
      ]
    },
    {
      "cell_type": "markdown",
      "metadata": {
        "id": "Aw9pp6cSzOM7",
        "colab_type": "text"
      },
      "source": [
        "표를 작성할때는 행은 ---로 열은 |로 구분해서 작성하면 됨\n",
        "\n",
        "이름 | 국어 | 영어 | 수학\n",
        "-----|------|------|-----\n",
        "혜교 | 98   | 54   | 87\n",
        "지현 | 56   | 32   | 99\n",
        "수지 | 78   | 21   | 55\n",
        "\n"
      ]
    },
    {
      "cell_type": "markdown",
      "metadata": {
        "id": "_bpOB-H70Atc",
        "colab_type": "text"
      },
      "source": [
        "# 수학식을 입력하려면 $$ 기호 사이에 다음과 같이 작성한다\n",
        "\n",
        "$$ RMSE = \\sqrt {\\sum (Y_{i} - \\hat Y_{i})^2} $$\n",
        "\n",
        "$$ x = { -b \\pm \\sqrt { b^2 - 4ac} \\over 2a } $$\n",
        "\n"
      ]
    },
    {
      "cell_type": "markdown",
      "metadata": {
        "id": "UGKyc4S6aqVY",
        "colab_type": "text"
      },
      "source": [
        "# Latex를 이용한 수식작성시 사용하는 각종 기호들은 \n",
        "https://ko.wikipedia.org/wiki/%EC%9C%84%ED%82%A4%EB%B0%B1%EA%B3%BC:TeX_%EB%AC%B8%EB%B2%95 \n",
        "를 참조함"
      ]
    },
    {
      "cell_type": "markdown",
      "metadata": {
        "id": "POcRW6yV-h62",
        "colab_type": "text"
      },
      "source": [
        "# 각종 단축키\n",
        "\n",
        "* enter : 셀 편집모드 (마우스 더블클릭)\n",
        "* ESC : 셀 편집모드 종료\n",
        "* 커서키 : 셀 선택모드 (마우스 한번클릭)\n",
        "\n",
        "* ctrl + enter :  현재 cell 내용 실행  \n",
        "* shift + enter : 현재 cell 내용 실행후 다음 셀로 넘어가기  \n",
        "  \n",
        "* a (ahead) : 위에 새로운 cell 추가  \n",
        "* b (back) : 아래에 새로운 cell 추가\n",
        "\n",
        "* ctrl + m m : markdown 셀로 변환\n",
        "* ctrl + m y : 코드 셀로 변환\n",
        "\n",
        "* Ctrl + M D : 셀 삭제\n",
        "* Ctrl + S : 작업내용 저장\n"
      ]
    }
  ]
}